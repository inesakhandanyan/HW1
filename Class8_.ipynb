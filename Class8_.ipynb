{
 "cells": [
  {
   "cell_type": "code",
   "execution_count": 1,
   "id": "b5489541",
   "metadata": {},
   "outputs": [
    {
     "data": {
      "text/html": [
       "        <script type=\"text/javascript\">\n",
       "        window.PlotlyConfig = {MathJaxConfig: 'local'};\n",
       "        if (window.MathJax) {MathJax.Hub.Config({SVG: {font: \"STIX-Web\"}});}\n",
       "        if (typeof require !== 'undefined') {\n",
       "        require.undef(\"plotly\");\n",
       "        requirejs.config({\n",
       "            paths: {\n",
       "                'plotly': ['https://cdn.plot.ly/plotly-2.2.0.min']\n",
       "            }\n",
       "        });\n",
       "        require(['plotly'], function(Plotly) {\n",
       "            window._Plotly = Plotly;\n",
       "        });\n",
       "        }\n",
       "        </script>\n",
       "        "
      ]
     },
     "metadata": {},
     "output_type": "display_data"
    }
   ],
   "source": [
    "import pandas as pd\n",
    "from pandas_datareader import data as dt #will be used to download data from yahoo finance\n",
    "import numpy as np\n",
    "import matplotlib.pyplot as plt\n",
    "import seaborn as sns\n",
    "import quandl\n",
    "from plotly.offline import iplot\n",
    "from plotly.offline import init_notebook_mode\n",
    "import plotly.graph_objects as go\n",
    "from scipy.stats import pearsonr\n",
    "from scipy.stats import ttest_ind #Independent Sample T-test\n",
    "from scipy.stats import f_oneway #One-Way ANOVA\n",
    "init_notebook_mode(connected=True)"
   ]
  },
  {
   "cell_type": "code",
   "execution_count": 2,
   "id": "4715f680",
   "metadata": {},
   "outputs": [],
   "source": [
    "wd=pd.read_excel(\"wine.xlsx\",sheet_name='Transactions')"
   ]
  },
  {
   "cell_type": "code",
   "execution_count": 3,
   "id": "679a2e32",
   "metadata": {},
   "outputs": [
    {
     "data": {
      "text/html": [
       "<div>\n",
       "<style scoped>\n",
       "    .dataframe tbody tr th:only-of-type {\n",
       "        vertical-align: middle;\n",
       "    }\n",
       "\n",
       "    .dataframe tbody tr th {\n",
       "        vertical-align: top;\n",
       "    }\n",
       "\n",
       "    .dataframe thead th {\n",
       "        text-align: right;\n",
       "    }\n",
       "</style>\n",
       "<table border=\"1\" class=\"dataframe\">\n",
       "  <thead>\n",
       "    <tr style=\"text-align: right;\">\n",
       "      <th></th>\n",
       "      <th>Customer Last Name</th>\n",
       "      <th>Offer #</th>\n",
       "      <th>Gender</th>\n",
       "      <th>Discount</th>\n",
       "      <th>Varietal</th>\n",
       "      <th>Customer_Segment</th>\n",
       "      <th>Minimum Qty (kg)</th>\n",
       "      <th>Origin</th>\n",
       "      <th>Campaign</th>\n",
       "      <th>Past Peak</th>\n",
       "    </tr>\n",
       "  </thead>\n",
       "  <tbody>\n",
       "    <tr>\n",
       "      <th>0</th>\n",
       "      <td>Smith</td>\n",
       "      <td>2</td>\n",
       "      <td>Male</td>\n",
       "      <td>17</td>\n",
       "      <td>Pinot Noir</td>\n",
       "      <td>Segment 4</td>\n",
       "      <td>72</td>\n",
       "      <td>France</td>\n",
       "      <td>January</td>\n",
       "      <td>False</td>\n",
       "    </tr>\n",
       "    <tr>\n",
       "      <th>1</th>\n",
       "      <td>Smith</td>\n",
       "      <td>24</td>\n",
       "      <td>Male</td>\n",
       "      <td>34</td>\n",
       "      <td>Pinot Noir</td>\n",
       "      <td>Segment 4</td>\n",
       "      <td>6</td>\n",
       "      <td>Italy</td>\n",
       "      <td>September</td>\n",
       "      <td>False</td>\n",
       "    </tr>\n",
       "    <tr>\n",
       "      <th>2</th>\n",
       "      <td>Johnson</td>\n",
       "      <td>17</td>\n",
       "      <td>Male</td>\n",
       "      <td>47</td>\n",
       "      <td>Pinot Noir</td>\n",
       "      <td>Segment 4</td>\n",
       "      <td>12</td>\n",
       "      <td>Germany</td>\n",
       "      <td>July</td>\n",
       "      <td>False</td>\n",
       "    </tr>\n",
       "    <tr>\n",
       "      <th>3</th>\n",
       "      <td>Johnson</td>\n",
       "      <td>24</td>\n",
       "      <td>Male</td>\n",
       "      <td>34</td>\n",
       "      <td>Pinot Noir</td>\n",
       "      <td>Segment 4</td>\n",
       "      <td>6</td>\n",
       "      <td>Italy</td>\n",
       "      <td>September</td>\n",
       "      <td>False</td>\n",
       "    </tr>\n",
       "    <tr>\n",
       "      <th>4</th>\n",
       "      <td>Johnson</td>\n",
       "      <td>26</td>\n",
       "      <td>Male</td>\n",
       "      <td>83</td>\n",
       "      <td>Pinot Noir</td>\n",
       "      <td>Segment 4</td>\n",
       "      <td>144</td>\n",
       "      <td>Australia</td>\n",
       "      <td>October</td>\n",
       "      <td>False</td>\n",
       "    </tr>\n",
       "  </tbody>\n",
       "</table>\n",
       "</div>"
      ],
      "text/plain": [
       "  Customer Last Name  Offer # Gender  Discount    Varietal Customer_Segment  \\\n",
       "0              Smith        2   Male        17  Pinot Noir        Segment 4   \n",
       "1              Smith       24   Male        34  Pinot Noir        Segment 4   \n",
       "2            Johnson       17   Male        47  Pinot Noir        Segment 4   \n",
       "3            Johnson       24   Male        34  Pinot Noir        Segment 4   \n",
       "4            Johnson       26   Male        83  Pinot Noir        Segment 4   \n",
       "\n",
       "   Minimum Qty (kg)     Origin   Campaign  Past Peak  \n",
       "0                72     France    January      False  \n",
       "1                 6      Italy  September      False  \n",
       "2                12    Germany       July      False  \n",
       "3                 6      Italy  September      False  \n",
       "4               144  Australia    October      False  "
      ]
     },
     "execution_count": 3,
     "metadata": {},
     "output_type": "execute_result"
    }
   ],
   "source": [
    "wd.head()"
   ]
  },
  {
   "cell_type": "code",
   "execution_count": 4,
   "id": "fa28de2a",
   "metadata": {},
   "outputs": [
    {
     "name": "stdout",
     "output_type": "stream",
     "text": [
      "<class 'pandas.core.frame.DataFrame'>\n",
      "RangeIndex: 324 entries, 0 to 323\n",
      "Data columns (total 10 columns):\n",
      " #   Column              Non-Null Count  Dtype \n",
      "---  ------              --------------  ----- \n",
      " 0   Customer Last Name  324 non-null    object\n",
      " 1   Offer #             324 non-null    int64 \n",
      " 2   Gender              324 non-null    object\n",
      " 3   Discount            324 non-null    int64 \n",
      " 4   Varietal            324 non-null    object\n",
      " 5   Customer_Segment    324 non-null    object\n",
      " 6   Minimum Qty (kg)    324 non-null    int64 \n",
      " 7   Origin              324 non-null    object\n",
      " 8   Campaign            324 non-null    object\n",
      " 9   Past Peak           324 non-null    bool  \n",
      "dtypes: bool(1), int64(3), object(6)\n",
      "memory usage: 23.2+ KB\n"
     ]
    }
   ],
   "source": [
    "wd.info()"
   ]
  },
  {
   "cell_type": "code",
   "execution_count": 5,
   "id": "9364f67b",
   "metadata": {},
   "outputs": [
    {
     "data": {
      "text/plain": [
       "(324, 10)"
      ]
     },
     "execution_count": 5,
     "metadata": {},
     "output_type": "execute_result"
    }
   ],
   "source": [
    "wd.shape"
   ]
  },
  {
   "cell_type": "code",
   "execution_count": 6,
   "id": "037c17d7",
   "metadata": {},
   "outputs": [
    {
     "data": {
      "text/plain": [
       "Customer Last Name    0\n",
       "Offer #               0\n",
       "Gender                0\n",
       "Discount              0\n",
       "Varietal              0\n",
       "Customer_Segment      0\n",
       "Minimum Qty (kg)      0\n",
       "Origin                0\n",
       "Campaign              0\n",
       "Past Peak             0\n",
       "dtype: int64"
      ]
     },
     "execution_count": 6,
     "metadata": {},
     "output_type": "execute_result"
    }
   ],
   "source": [
    "wd.isna().sum()"
   ]
  },
  {
   "cell_type": "code",
   "execution_count": 7,
   "id": "379c9a42",
   "metadata": {},
   "outputs": [
    {
     "data": {
      "text/plain": [
       "array(['Pinot Noir', 'Espumante', 'Champagne', 'Prosecco', 'Pinot Grigio',\n",
       "       'Malbec', 'Merlot', 'Cabernet Sauvignon', 'Chardonnay'],\n",
       "      dtype=object)"
      ]
     },
     "execution_count": 7,
     "metadata": {},
     "output_type": "execute_result"
    }
   ],
   "source": [
    "wd.Varietal.unique()"
   ]
  },
  {
   "cell_type": "code",
   "execution_count": 8,
   "id": "e7cd32bf",
   "metadata": {},
   "outputs": [
    {
     "data": {
      "text/plain": [
       "9"
      ]
     },
     "execution_count": 8,
     "metadata": {},
     "output_type": "execute_result"
    }
   ],
   "source": [
    "wd.Varietal.nunique()"
   ]
  },
  {
   "cell_type": "code",
   "execution_count": 9,
   "id": "5dc1d1eb",
   "metadata": {},
   "outputs": [],
   "source": [
    "def discount_range(discount):\n",
    "    if discount<30:\n",
    "        return \"Up to 30\"\n",
    "    elif discount>=30 and discount<=60:\n",
    "        return \"[30,60]\"\n",
    "    else:\n",
    "        return \"more than 60\""
   ]
  },
  {
   "cell_type": "code",
   "execution_count": 10,
   "id": "36f796fb",
   "metadata": {},
   "outputs": [
    {
     "data": {
      "text/plain": [
       "'Up to 30'"
      ]
     },
     "execution_count": 10,
     "metadata": {},
     "output_type": "execute_result"
    }
   ],
   "source": [
    "discount_range(15)"
   ]
  },
  {
   "cell_type": "code",
   "execution_count": 11,
   "id": "df089c6d",
   "metadata": {},
   "outputs": [
    {
     "data": {
      "text/plain": [
       "17"
      ]
     },
     "execution_count": 11,
     "metadata": {},
     "output_type": "execute_result"
    }
   ],
   "source": [
    "wd.Discount[0]"
   ]
  },
  {
   "cell_type": "code",
   "execution_count": 12,
   "id": "45f91733",
   "metadata": {},
   "outputs": [
    {
     "data": {
      "text/plain": [
       "'Up to 30'"
      ]
     },
     "execution_count": 12,
     "metadata": {},
     "output_type": "execute_result"
    }
   ],
   "source": [
    "discount_range(wd.Discount[0])"
   ]
  },
  {
   "cell_type": "code",
   "execution_count": 13,
   "id": "9f1e775b",
   "metadata": {},
   "outputs": [
    {
     "data": {
      "text/plain": [
       "'more than 60'"
      ]
     },
     "execution_count": 13,
     "metadata": {},
     "output_type": "execute_result"
    }
   ],
   "source": [
    "discount_range(wd.Discount[4])"
   ]
  },
  {
   "cell_type": "code",
   "execution_count": 14,
   "id": "c6986b19",
   "metadata": {},
   "outputs": [
    {
     "name": "stdout",
     "output_type": "stream",
     "text": [
      "Smith Up to 30\n",
      "Smith [30,60]\n",
      "Johnson [30,60]\n",
      "Johnson [30,60]\n",
      "Johnson more than 60\n",
      "Williams [30,60]\n",
      "Williams more than 60\n",
      "Williams more than 60\n",
      "Brown [30,60]\n",
      "Brown more than 60\n"
     ]
    }
   ],
   "source": [
    "for i in range(10):\n",
    "    print(wd['Customer Last Name'][i],discount_range(wd.Discount[i]))"
   ]
  },
  {
   "cell_type": "code",
   "execution_count": 15,
   "id": "1f094e29",
   "metadata": {},
   "outputs": [],
   "source": [
    "wd['Discount_name']=wd.Discount.apply(discount_range)"
   ]
  },
  {
   "cell_type": "code",
   "execution_count": 16,
   "id": "aa4c2ddd",
   "metadata": {},
   "outputs": [
    {
     "data": {
      "text/html": [
       "<div>\n",
       "<style scoped>\n",
       "    .dataframe tbody tr th:only-of-type {\n",
       "        vertical-align: middle;\n",
       "    }\n",
       "\n",
       "    .dataframe tbody tr th {\n",
       "        vertical-align: top;\n",
       "    }\n",
       "\n",
       "    .dataframe thead th {\n",
       "        text-align: right;\n",
       "    }\n",
       "</style>\n",
       "<table border=\"1\" class=\"dataframe\">\n",
       "  <thead>\n",
       "    <tr style=\"text-align: right;\">\n",
       "      <th></th>\n",
       "      <th>Customer Last Name</th>\n",
       "      <th>Offer #</th>\n",
       "      <th>Gender</th>\n",
       "      <th>Discount</th>\n",
       "      <th>Varietal</th>\n",
       "      <th>Customer_Segment</th>\n",
       "      <th>Minimum Qty (kg)</th>\n",
       "      <th>Origin</th>\n",
       "      <th>Campaign</th>\n",
       "      <th>Past Peak</th>\n",
       "      <th>Discount_name</th>\n",
       "    </tr>\n",
       "  </thead>\n",
       "  <tbody>\n",
       "    <tr>\n",
       "      <th>0</th>\n",
       "      <td>Smith</td>\n",
       "      <td>2</td>\n",
       "      <td>Male</td>\n",
       "      <td>17</td>\n",
       "      <td>Pinot Noir</td>\n",
       "      <td>Segment 4</td>\n",
       "      <td>72</td>\n",
       "      <td>France</td>\n",
       "      <td>January</td>\n",
       "      <td>False</td>\n",
       "      <td>Up to 30</td>\n",
       "    </tr>\n",
       "    <tr>\n",
       "      <th>1</th>\n",
       "      <td>Smith</td>\n",
       "      <td>24</td>\n",
       "      <td>Male</td>\n",
       "      <td>34</td>\n",
       "      <td>Pinot Noir</td>\n",
       "      <td>Segment 4</td>\n",
       "      <td>6</td>\n",
       "      <td>Italy</td>\n",
       "      <td>September</td>\n",
       "      <td>False</td>\n",
       "      <td>[30,60]</td>\n",
       "    </tr>\n",
       "    <tr>\n",
       "      <th>2</th>\n",
       "      <td>Johnson</td>\n",
       "      <td>17</td>\n",
       "      <td>Male</td>\n",
       "      <td>47</td>\n",
       "      <td>Pinot Noir</td>\n",
       "      <td>Segment 4</td>\n",
       "      <td>12</td>\n",
       "      <td>Germany</td>\n",
       "      <td>July</td>\n",
       "      <td>False</td>\n",
       "      <td>[30,60]</td>\n",
       "    </tr>\n",
       "    <tr>\n",
       "      <th>3</th>\n",
       "      <td>Johnson</td>\n",
       "      <td>24</td>\n",
       "      <td>Male</td>\n",
       "      <td>34</td>\n",
       "      <td>Pinot Noir</td>\n",
       "      <td>Segment 4</td>\n",
       "      <td>6</td>\n",
       "      <td>Italy</td>\n",
       "      <td>September</td>\n",
       "      <td>False</td>\n",
       "      <td>[30,60]</td>\n",
       "    </tr>\n",
       "    <tr>\n",
       "      <th>4</th>\n",
       "      <td>Johnson</td>\n",
       "      <td>26</td>\n",
       "      <td>Male</td>\n",
       "      <td>83</td>\n",
       "      <td>Pinot Noir</td>\n",
       "      <td>Segment 4</td>\n",
       "      <td>144</td>\n",
       "      <td>Australia</td>\n",
       "      <td>October</td>\n",
       "      <td>False</td>\n",
       "      <td>more than 60</td>\n",
       "    </tr>\n",
       "  </tbody>\n",
       "</table>\n",
       "</div>"
      ],
      "text/plain": [
       "  Customer Last Name  Offer # Gender  Discount    Varietal Customer_Segment  \\\n",
       "0              Smith        2   Male        17  Pinot Noir        Segment 4   \n",
       "1              Smith       24   Male        34  Pinot Noir        Segment 4   \n",
       "2            Johnson       17   Male        47  Pinot Noir        Segment 4   \n",
       "3            Johnson       24   Male        34  Pinot Noir        Segment 4   \n",
       "4            Johnson       26   Male        83  Pinot Noir        Segment 4   \n",
       "\n",
       "   Minimum Qty (kg)     Origin   Campaign  Past Peak Discount_name  \n",
       "0                72     France    January      False      Up to 30  \n",
       "1                 6      Italy  September      False       [30,60]  \n",
       "2                12    Germany       July      False       [30,60]  \n",
       "3                 6      Italy  September      False       [30,60]  \n",
       "4               144  Australia    October      False  more than 60  "
      ]
     },
     "execution_count": 16,
     "metadata": {},
     "output_type": "execute_result"
    }
   ],
   "source": [
    "wd.head()"
   ]
  },
  {
   "cell_type": "code",
   "execution_count": 17,
   "id": "d138740f",
   "metadata": {},
   "outputs": [
    {
     "data": {
      "text/plain": [
       "Customer Last Name    0\n",
       "Offer #               0\n",
       "Gender                0\n",
       "Discount              0\n",
       "Varietal              0\n",
       "Customer_Segment      0\n",
       "Minimum Qty (kg)      0\n",
       "Origin                0\n",
       "Campaign              0\n",
       "Past Peak             0\n",
       "Discount_name         0\n",
       "dtype: int64"
      ]
     },
     "execution_count": 17,
     "metadata": {},
     "output_type": "execute_result"
    }
   ],
   "source": [
    "wd.isna().sum()"
   ]
  },
  {
   "cell_type": "code",
   "execution_count": 18,
   "id": "275ef509",
   "metadata": {},
   "outputs": [
    {
     "name": "stdout",
     "output_type": "stream",
     "text": [
      "<class 'pandas.core.frame.DataFrame'>\n",
      "RangeIndex: 324 entries, 0 to 323\n",
      "Data columns (total 11 columns):\n",
      " #   Column              Non-Null Count  Dtype \n",
      "---  ------              --------------  ----- \n",
      " 0   Customer Last Name  324 non-null    object\n",
      " 1   Offer #             324 non-null    int64 \n",
      " 2   Gender              324 non-null    object\n",
      " 3   Discount            324 non-null    int64 \n",
      " 4   Varietal            324 non-null    object\n",
      " 5   Customer_Segment    324 non-null    object\n",
      " 6   Minimum Qty (kg)    324 non-null    int64 \n",
      " 7   Origin              324 non-null    object\n",
      " 8   Campaign            324 non-null    object\n",
      " 9   Past Peak           324 non-null    bool  \n",
      " 10  Discount_name       324 non-null    object\n",
      "dtypes: bool(1), int64(3), object(7)\n",
      "memory usage: 25.8+ KB\n"
     ]
    }
   ],
   "source": [
    "wd.info()"
   ]
  },
  {
   "cell_type": "code",
   "execution_count": 19,
   "id": "e4ca05e3",
   "metadata": {},
   "outputs": [
    {
     "data": {
      "text/html": [
       "<div>\n",
       "<style scoped>\n",
       "    .dataframe tbody tr th:only-of-type {\n",
       "        vertical-align: middle;\n",
       "    }\n",
       "\n",
       "    .dataframe tbody tr th {\n",
       "        vertical-align: top;\n",
       "    }\n",
       "\n",
       "    .dataframe thead th {\n",
       "        text-align: right;\n",
       "    }\n",
       "</style>\n",
       "<table border=\"1\" class=\"dataframe\">\n",
       "  <thead>\n",
       "    <tr style=\"text-align: right;\">\n",
       "      <th></th>\n",
       "      <th>Offer #</th>\n",
       "      <th>Discount</th>\n",
       "      <th>Minimum Qty (kg)</th>\n",
       "    </tr>\n",
       "  </thead>\n",
       "  <tbody>\n",
       "    <tr>\n",
       "      <th>0</th>\n",
       "      <td>2</td>\n",
       "      <td>17</td>\n",
       "      <td>72</td>\n",
       "    </tr>\n",
       "    <tr>\n",
       "      <th>1</th>\n",
       "      <td>24</td>\n",
       "      <td>34</td>\n",
       "      <td>6</td>\n",
       "    </tr>\n",
       "    <tr>\n",
       "      <th>2</th>\n",
       "      <td>17</td>\n",
       "      <td>47</td>\n",
       "      <td>12</td>\n",
       "    </tr>\n",
       "    <tr>\n",
       "      <th>3</th>\n",
       "      <td>24</td>\n",
       "      <td>34</td>\n",
       "      <td>6</td>\n",
       "    </tr>\n",
       "    <tr>\n",
       "      <th>4</th>\n",
       "      <td>26</td>\n",
       "      <td>83</td>\n",
       "      <td>144</td>\n",
       "    </tr>\n",
       "  </tbody>\n",
       "</table>\n",
       "</div>"
      ],
      "text/plain": [
       "   Offer #  Discount  Minimum Qty (kg)\n",
       "0        2        17                72\n",
       "1       24        34                 6\n",
       "2       17        47                12\n",
       "3       24        34                 6\n",
       "4       26        83               144"
      ]
     },
     "execution_count": 19,
     "metadata": {},
     "output_type": "execute_result"
    }
   ],
   "source": [
    "data_num=wd.select_dtypes(include='int64')\n",
    "data_num.head()"
   ]
  },
  {
   "cell_type": "code",
   "execution_count": 20,
   "id": "fdf2f5ff",
   "metadata": {},
   "outputs": [
    {
     "data": {
      "text/html": [
       "<div>\n",
       "<style scoped>\n",
       "    .dataframe tbody tr th:only-of-type {\n",
       "        vertical-align: middle;\n",
       "    }\n",
       "\n",
       "    .dataframe tbody tr th {\n",
       "        vertical-align: top;\n",
       "    }\n",
       "\n",
       "    .dataframe thead th {\n",
       "        text-align: right;\n",
       "    }\n",
       "</style>\n",
       "<table border=\"1\" class=\"dataframe\">\n",
       "  <thead>\n",
       "    <tr style=\"text-align: right;\">\n",
       "      <th></th>\n",
       "      <th>Customer Last Name</th>\n",
       "      <th>Gender</th>\n",
       "      <th>Varietal</th>\n",
       "      <th>Customer_Segment</th>\n",
       "      <th>Origin</th>\n",
       "      <th>Campaign</th>\n",
       "      <th>Past Peak</th>\n",
       "      <th>Discount_name</th>\n",
       "    </tr>\n",
       "  </thead>\n",
       "  <tbody>\n",
       "    <tr>\n",
       "      <th>0</th>\n",
       "      <td>Smith</td>\n",
       "      <td>Male</td>\n",
       "      <td>Pinot Noir</td>\n",
       "      <td>Segment 4</td>\n",
       "      <td>France</td>\n",
       "      <td>January</td>\n",
       "      <td>False</td>\n",
       "      <td>Up to 30</td>\n",
       "    </tr>\n",
       "    <tr>\n",
       "      <th>1</th>\n",
       "      <td>Smith</td>\n",
       "      <td>Male</td>\n",
       "      <td>Pinot Noir</td>\n",
       "      <td>Segment 4</td>\n",
       "      <td>Italy</td>\n",
       "      <td>September</td>\n",
       "      <td>False</td>\n",
       "      <td>[30,60]</td>\n",
       "    </tr>\n",
       "    <tr>\n",
       "      <th>2</th>\n",
       "      <td>Johnson</td>\n",
       "      <td>Male</td>\n",
       "      <td>Pinot Noir</td>\n",
       "      <td>Segment 4</td>\n",
       "      <td>Germany</td>\n",
       "      <td>July</td>\n",
       "      <td>False</td>\n",
       "      <td>[30,60]</td>\n",
       "    </tr>\n",
       "    <tr>\n",
       "      <th>3</th>\n",
       "      <td>Johnson</td>\n",
       "      <td>Male</td>\n",
       "      <td>Pinot Noir</td>\n",
       "      <td>Segment 4</td>\n",
       "      <td>Italy</td>\n",
       "      <td>September</td>\n",
       "      <td>False</td>\n",
       "      <td>[30,60]</td>\n",
       "    </tr>\n",
       "    <tr>\n",
       "      <th>4</th>\n",
       "      <td>Johnson</td>\n",
       "      <td>Male</td>\n",
       "      <td>Pinot Noir</td>\n",
       "      <td>Segment 4</td>\n",
       "      <td>Australia</td>\n",
       "      <td>October</td>\n",
       "      <td>False</td>\n",
       "      <td>more than 60</td>\n",
       "    </tr>\n",
       "  </tbody>\n",
       "</table>\n",
       "</div>"
      ],
      "text/plain": [
       "  Customer Last Name Gender    Varietal Customer_Segment     Origin  \\\n",
       "0              Smith   Male  Pinot Noir        Segment 4     France   \n",
       "1              Smith   Male  Pinot Noir        Segment 4      Italy   \n",
       "2            Johnson   Male  Pinot Noir        Segment 4    Germany   \n",
       "3            Johnson   Male  Pinot Noir        Segment 4      Italy   \n",
       "4            Johnson   Male  Pinot Noir        Segment 4  Australia   \n",
       "\n",
       "    Campaign  Past Peak Discount_name  \n",
       "0    January      False      Up to 30  \n",
       "1  September      False       [30,60]  \n",
       "2       July      False       [30,60]  \n",
       "3  September      False       [30,60]  \n",
       "4    October      False  more than 60  "
      ]
     },
     "execution_count": 20,
     "metadata": {},
     "output_type": "execute_result"
    }
   ],
   "source": [
    "data_str=wd.select_dtypes(include=['bool','object'])\n",
    "data_str.head()"
   ]
  },
  {
   "cell_type": "code",
   "execution_count": 21,
   "id": "a3454b05",
   "metadata": {},
   "outputs": [
    {
     "data": {
      "text/html": [
       "<div>\n",
       "<style scoped>\n",
       "    .dataframe tbody tr th:only-of-type {\n",
       "        vertical-align: middle;\n",
       "    }\n",
       "\n",
       "    .dataframe tbody tr th {\n",
       "        vertical-align: top;\n",
       "    }\n",
       "\n",
       "    .dataframe thead th {\n",
       "        text-align: right;\n",
       "    }\n",
       "</style>\n",
       "<table border=\"1\" class=\"dataframe\">\n",
       "  <thead>\n",
       "    <tr style=\"text-align: right;\">\n",
       "      <th></th>\n",
       "      <th>Customer Last Name</th>\n",
       "      <th>Gender</th>\n",
       "      <th>Varietal</th>\n",
       "      <th>Customer_Segment</th>\n",
       "      <th>Origin</th>\n",
       "      <th>Campaign</th>\n",
       "      <th>Past Peak</th>\n",
       "      <th>Discount_name</th>\n",
       "    </tr>\n",
       "  </thead>\n",
       "  <tbody>\n",
       "    <tr>\n",
       "      <th>0</th>\n",
       "      <td>Smith</td>\n",
       "      <td>Male</td>\n",
       "      <td>Pinot Noir</td>\n",
       "      <td>Segment 4</td>\n",
       "      <td>France</td>\n",
       "      <td>January</td>\n",
       "      <td>False</td>\n",
       "      <td>Up to 30</td>\n",
       "    </tr>\n",
       "    <tr>\n",
       "      <th>1</th>\n",
       "      <td>Smith</td>\n",
       "      <td>Male</td>\n",
       "      <td>Pinot Noir</td>\n",
       "      <td>Segment 4</td>\n",
       "      <td>Italy</td>\n",
       "      <td>September</td>\n",
       "      <td>False</td>\n",
       "      <td>[30,60]</td>\n",
       "    </tr>\n",
       "    <tr>\n",
       "      <th>2</th>\n",
       "      <td>Johnson</td>\n",
       "      <td>Male</td>\n",
       "      <td>Pinot Noir</td>\n",
       "      <td>Segment 4</td>\n",
       "      <td>Germany</td>\n",
       "      <td>July</td>\n",
       "      <td>False</td>\n",
       "      <td>[30,60]</td>\n",
       "    </tr>\n",
       "    <tr>\n",
       "      <th>3</th>\n",
       "      <td>Johnson</td>\n",
       "      <td>Male</td>\n",
       "      <td>Pinot Noir</td>\n",
       "      <td>Segment 4</td>\n",
       "      <td>Italy</td>\n",
       "      <td>September</td>\n",
       "      <td>False</td>\n",
       "      <td>[30,60]</td>\n",
       "    </tr>\n",
       "    <tr>\n",
       "      <th>4</th>\n",
       "      <td>Johnson</td>\n",
       "      <td>Male</td>\n",
       "      <td>Pinot Noir</td>\n",
       "      <td>Segment 4</td>\n",
       "      <td>Australia</td>\n",
       "      <td>October</td>\n",
       "      <td>False</td>\n",
       "      <td>more than 60</td>\n",
       "    </tr>\n",
       "  </tbody>\n",
       "</table>\n",
       "</div>"
      ],
      "text/plain": [
       "  Customer Last Name Gender    Varietal Customer_Segment     Origin  \\\n",
       "0              Smith   Male  Pinot Noir        Segment 4     France   \n",
       "1              Smith   Male  Pinot Noir        Segment 4      Italy   \n",
       "2            Johnson   Male  Pinot Noir        Segment 4    Germany   \n",
       "3            Johnson   Male  Pinot Noir        Segment 4      Italy   \n",
       "4            Johnson   Male  Pinot Noir        Segment 4  Australia   \n",
       "\n",
       "    Campaign  Past Peak Discount_name  \n",
       "0    January      False      Up to 30  \n",
       "1  September      False       [30,60]  \n",
       "2       July      False       [30,60]  \n",
       "3  September      False       [30,60]  \n",
       "4    October      False  more than 60  "
      ]
     },
     "execution_count": 21,
     "metadata": {},
     "output_type": "execute_result"
    }
   ],
   "source": [
    "data_s=wd.select_dtypes(exclude='int64')\n",
    "data_s.head()"
   ]
  },
  {
   "cell_type": "code",
   "execution_count": 22,
   "id": "b4b75bb9",
   "metadata": {},
   "outputs": [
    {
     "data": {
      "text/html": [
       "<div>\n",
       "<style scoped>\n",
       "    .dataframe tbody tr th:only-of-type {\n",
       "        vertical-align: middle;\n",
       "    }\n",
       "\n",
       "    .dataframe tbody tr th {\n",
       "        vertical-align: top;\n",
       "    }\n",
       "\n",
       "    .dataframe thead th {\n",
       "        text-align: right;\n",
       "    }\n",
       "</style>\n",
       "<table border=\"1\" class=\"dataframe\">\n",
       "  <thead>\n",
       "    <tr style=\"text-align: right;\">\n",
       "      <th></th>\n",
       "      <th>Offer #</th>\n",
       "      <th>Discount</th>\n",
       "      <th>Minimum Qty (kg)</th>\n",
       "    </tr>\n",
       "  </thead>\n",
       "  <tbody>\n",
       "    <tr>\n",
       "      <th>count</th>\n",
       "      <td>324.000000</td>\n",
       "      <td>324.000000</td>\n",
       "      <td>324.000000</td>\n",
       "    </tr>\n",
       "    <tr>\n",
       "      <th>mean</th>\n",
       "      <td>17.012346</td>\n",
       "      <td>59.481481</td>\n",
       "      <td>58.407407</td>\n",
       "    </tr>\n",
       "    <tr>\n",
       "      <th>std</th>\n",
       "      <td>9.703332</td>\n",
       "      <td>20.327877</td>\n",
       "      <td>49.741444</td>\n",
       "    </tr>\n",
       "    <tr>\n",
       "      <th>min</th>\n",
       "      <td>1.000000</td>\n",
       "      <td>17.000000</td>\n",
       "      <td>6.000000</td>\n",
       "    </tr>\n",
       "    <tr>\n",
       "      <th>25%</th>\n",
       "      <td>8.000000</td>\n",
       "      <td>45.000000</td>\n",
       "      <td>6.000000</td>\n",
       "    </tr>\n",
       "    <tr>\n",
       "      <th>50%</th>\n",
       "      <td>18.000000</td>\n",
       "      <td>56.000000</td>\n",
       "      <td>72.000000</td>\n",
       "    </tr>\n",
       "    <tr>\n",
       "      <th>75%</th>\n",
       "      <td>26.000000</td>\n",
       "      <td>83.000000</td>\n",
       "      <td>72.000000</td>\n",
       "    </tr>\n",
       "    <tr>\n",
       "      <th>max</th>\n",
       "      <td>32.000000</td>\n",
       "      <td>89.000000</td>\n",
       "      <td>144.000000</td>\n",
       "    </tr>\n",
       "  </tbody>\n",
       "</table>\n",
       "</div>"
      ],
      "text/plain": [
       "          Offer #    Discount  Minimum Qty (kg)\n",
       "count  324.000000  324.000000        324.000000\n",
       "mean    17.012346   59.481481         58.407407\n",
       "std      9.703332   20.327877         49.741444\n",
       "min      1.000000   17.000000          6.000000\n",
       "25%      8.000000   45.000000          6.000000\n",
       "50%     18.000000   56.000000         72.000000\n",
       "75%     26.000000   83.000000         72.000000\n",
       "max     32.000000   89.000000        144.000000"
      ]
     },
     "execution_count": 22,
     "metadata": {},
     "output_type": "execute_result"
    }
   ],
   "source": [
    "data_num.describe()"
   ]
  },
  {
   "cell_type": "code",
   "execution_count": 23,
   "id": "7da0cda2",
   "metadata": {},
   "outputs": [
    {
     "name": "stderr",
     "output_type": "stream",
     "text": [
      "/Users/artyomkhandanyan/opt/anaconda3/lib/python3.8/site-packages/pandas/core/frame.py:4308: SettingWithCopyWarning:\n",
      "\n",
      "\n",
      "A value is trying to be set on a copy of a slice from a DataFrame\n",
      "\n",
      "See the caveats in the documentation: https://pandas.pydata.org/pandas-docs/stable/user_guide/indexing.html#returning-a-view-versus-a-copy\n",
      "\n"
     ]
    },
    {
     "data": {
      "text/html": [
       "<div>\n",
       "<style scoped>\n",
       "    .dataframe tbody tr th:only-of-type {\n",
       "        vertical-align: middle;\n",
       "    }\n",
       "\n",
       "    .dataframe tbody tr th {\n",
       "        vertical-align: top;\n",
       "    }\n",
       "\n",
       "    .dataframe thead th {\n",
       "        text-align: right;\n",
       "    }\n",
       "</style>\n",
       "<table border=\"1\" class=\"dataframe\">\n",
       "  <thead>\n",
       "    <tr style=\"text-align: right;\">\n",
       "      <th></th>\n",
       "      <th>Discount</th>\n",
       "      <th>Minimum Qty (kg)</th>\n",
       "    </tr>\n",
       "  </thead>\n",
       "  <tbody>\n",
       "    <tr>\n",
       "      <th>0</th>\n",
       "      <td>17</td>\n",
       "      <td>72</td>\n",
       "    </tr>\n",
       "    <tr>\n",
       "      <th>1</th>\n",
       "      <td>34</td>\n",
       "      <td>6</td>\n",
       "    </tr>\n",
       "    <tr>\n",
       "      <th>2</th>\n",
       "      <td>47</td>\n",
       "      <td>12</td>\n",
       "    </tr>\n",
       "    <tr>\n",
       "      <th>3</th>\n",
       "      <td>34</td>\n",
       "      <td>6</td>\n",
       "    </tr>\n",
       "    <tr>\n",
       "      <th>4</th>\n",
       "      <td>83</td>\n",
       "      <td>144</td>\n",
       "    </tr>\n",
       "  </tbody>\n",
       "</table>\n",
       "</div>"
      ],
      "text/plain": [
       "   Discount  Minimum Qty (kg)\n",
       "0        17                72\n",
       "1        34                 6\n",
       "2        47                12\n",
       "3        34                 6\n",
       "4        83               144"
      ]
     },
     "execution_count": 23,
     "metadata": {},
     "output_type": "execute_result"
    }
   ],
   "source": [
    "data_num.drop('Offer #',axis=1,inplace=True)\n",
    "data_num.head()"
   ]
  },
  {
   "cell_type": "code",
   "execution_count": 24,
   "id": "b7f7aff5",
   "metadata": {},
   "outputs": [
    {
     "name": "stdout",
     "output_type": "stream",
     "text": [
      "\n",
      " Customer Last Name \n",
      "\n",
      "Sanders    9\n",
      "Sanchez    7\n",
      "Miller     7\n",
      "Fisher     7\n",
      "Harris     6\n",
      "          ..\n",
      "Ortiz      1\n",
      "Russell    1\n",
      "Powell     1\n",
      "Jones      1\n",
      "Ward       1\n",
      "Name: Customer Last Name, Length: 100, dtype: int64\n",
      "\n",
      " Gender \n",
      "\n",
      "Female    162\n",
      "Male      162\n",
      "Name: Gender, dtype: int64\n",
      "\n",
      " Varietal \n",
      "\n",
      "Champagne             81\n",
      "Pinot Noir            44\n",
      "Prosecco              43\n",
      "Espumante             40\n",
      "Cabernet Sauvignon    32\n",
      "Malbec                32\n",
      "Merlot                20\n",
      "Pinot Grigio          17\n",
      "Chardonnay            15\n",
      "Name: Varietal, dtype: int64\n",
      "\n",
      " Customer_Segment \n",
      "\n",
      "Segment 1    124\n",
      "Segment 2     96\n",
      "Segment 3     73\n",
      "Segment 4     31\n",
      "Name: Customer_Segment, dtype: int64\n",
      "\n",
      " Origin \n",
      "\n",
      "France          128\n",
      "Australia        39\n",
      "Chile            37\n",
      "Oregon           26\n",
      "South Africa     25\n",
      "Italy            24\n",
      "Germany          16\n",
      "California       16\n",
      "New Zealand      13\n",
      "Name: Origin, dtype: int64\n",
      "\n",
      " Campaign \n",
      "\n",
      "March        51\n",
      "December     43\n",
      "August       31\n",
      "October      30\n",
      "July         26\n",
      "May          24\n",
      "November     23\n",
      "February     22\n",
      "January      20\n",
      "June         20\n",
      "September    17\n",
      "April        17\n",
      "Name: Campaign, dtype: int64\n",
      "\n",
      " Past Peak \n",
      "\n",
      "False    267\n",
      "True      57\n",
      "Name: Past Peak, dtype: int64\n",
      "\n",
      " Discount_name \n",
      "\n",
      "[30,60]         174\n",
      "more than 60    134\n",
      "Up to 30         16\n",
      "Name: Discount_name, dtype: int64\n"
     ]
    }
   ],
   "source": [
    "for i in data_str.columns:\n",
    "    print('\\n',i,'\\n')\n",
    "    print(data_str[i].value_counts())\n",
    "    "
   ]
  },
  {
   "cell_type": "code",
   "execution_count": 25,
   "id": "d1e202d8",
   "metadata": {},
   "outputs": [
    {
     "data": {
      "text/html": [
       "<div>\n",
       "<style scoped>\n",
       "    .dataframe tbody tr th:only-of-type {\n",
       "        vertical-align: middle;\n",
       "    }\n",
       "\n",
       "    .dataframe tbody tr th {\n",
       "        vertical-align: top;\n",
       "    }\n",
       "\n",
       "    .dataframe thead th {\n",
       "        text-align: right;\n",
       "    }\n",
       "</style>\n",
       "<table border=\"1\" class=\"dataframe\">\n",
       "  <thead>\n",
       "    <tr style=\"text-align: right;\">\n",
       "      <th></th>\n",
       "      <th>Discount</th>\n",
       "      <th>Minimum Qty (kg)</th>\n",
       "    </tr>\n",
       "  </thead>\n",
       "  <tbody>\n",
       "    <tr>\n",
       "      <th>0</th>\n",
       "      <td>17</td>\n",
       "      <td>72</td>\n",
       "    </tr>\n",
       "    <tr>\n",
       "      <th>1</th>\n",
       "      <td>34</td>\n",
       "      <td>6</td>\n",
       "    </tr>\n",
       "    <tr>\n",
       "      <th>2</th>\n",
       "      <td>47</td>\n",
       "      <td>12</td>\n",
       "    </tr>\n",
       "    <tr>\n",
       "      <th>3</th>\n",
       "      <td>34</td>\n",
       "      <td>6</td>\n",
       "    </tr>\n",
       "    <tr>\n",
       "      <th>4</th>\n",
       "      <td>83</td>\n",
       "      <td>144</td>\n",
       "    </tr>\n",
       "  </tbody>\n",
       "</table>\n",
       "</div>"
      ],
      "text/plain": [
       "   Discount  Minimum Qty (kg)\n",
       "0        17                72\n",
       "1        34                 6\n",
       "2        47                12\n",
       "3        34                 6\n",
       "4        83               144"
      ]
     },
     "execution_count": 25,
     "metadata": {},
     "output_type": "execute_result"
    }
   ],
   "source": [
    "data_num.head()"
   ]
  },
  {
   "cell_type": "code",
   "execution_count": 26,
   "id": "17b7f5f5",
   "metadata": {},
   "outputs": [
    {
     "data": {
      "text/html": [
       "<div>\n",
       "<style scoped>\n",
       "    .dataframe tbody tr th:only-of-type {\n",
       "        vertical-align: middle;\n",
       "    }\n",
       "\n",
       "    .dataframe tbody tr th {\n",
       "        vertical-align: top;\n",
       "    }\n",
       "\n",
       "    .dataframe thead th {\n",
       "        text-align: right;\n",
       "    }\n",
       "</style>\n",
       "<table border=\"1\" class=\"dataframe\">\n",
       "  <thead>\n",
       "    <tr style=\"text-align: right;\">\n",
       "      <th></th>\n",
       "      <th>Customer Last Name</th>\n",
       "      <th>Gender</th>\n",
       "      <th>Varietal</th>\n",
       "      <th>Customer_Segment</th>\n",
       "      <th>Origin</th>\n",
       "      <th>Campaign</th>\n",
       "      <th>Past Peak</th>\n",
       "      <th>Discount_name</th>\n",
       "    </tr>\n",
       "  </thead>\n",
       "  <tbody>\n",
       "    <tr>\n",
       "      <th>0</th>\n",
       "      <td>Smith</td>\n",
       "      <td>Male</td>\n",
       "      <td>Pinot Noir</td>\n",
       "      <td>Segment 4</td>\n",
       "      <td>France</td>\n",
       "      <td>January</td>\n",
       "      <td>False</td>\n",
       "      <td>Up to 30</td>\n",
       "    </tr>\n",
       "    <tr>\n",
       "      <th>1</th>\n",
       "      <td>Smith</td>\n",
       "      <td>Male</td>\n",
       "      <td>Pinot Noir</td>\n",
       "      <td>Segment 4</td>\n",
       "      <td>Italy</td>\n",
       "      <td>September</td>\n",
       "      <td>False</td>\n",
       "      <td>[30,60]</td>\n",
       "    </tr>\n",
       "    <tr>\n",
       "      <th>2</th>\n",
       "      <td>Johnson</td>\n",
       "      <td>Male</td>\n",
       "      <td>Pinot Noir</td>\n",
       "      <td>Segment 4</td>\n",
       "      <td>Germany</td>\n",
       "      <td>July</td>\n",
       "      <td>False</td>\n",
       "      <td>[30,60]</td>\n",
       "    </tr>\n",
       "    <tr>\n",
       "      <th>3</th>\n",
       "      <td>Johnson</td>\n",
       "      <td>Male</td>\n",
       "      <td>Pinot Noir</td>\n",
       "      <td>Segment 4</td>\n",
       "      <td>Italy</td>\n",
       "      <td>September</td>\n",
       "      <td>False</td>\n",
       "      <td>[30,60]</td>\n",
       "    </tr>\n",
       "    <tr>\n",
       "      <th>4</th>\n",
       "      <td>Johnson</td>\n",
       "      <td>Male</td>\n",
       "      <td>Pinot Noir</td>\n",
       "      <td>Segment 4</td>\n",
       "      <td>Australia</td>\n",
       "      <td>October</td>\n",
       "      <td>False</td>\n",
       "      <td>more than 60</td>\n",
       "    </tr>\n",
       "  </tbody>\n",
       "</table>\n",
       "</div>"
      ],
      "text/plain": [
       "  Customer Last Name Gender    Varietal Customer_Segment     Origin  \\\n",
       "0              Smith   Male  Pinot Noir        Segment 4     France   \n",
       "1              Smith   Male  Pinot Noir        Segment 4      Italy   \n",
       "2            Johnson   Male  Pinot Noir        Segment 4    Germany   \n",
       "3            Johnson   Male  Pinot Noir        Segment 4      Italy   \n",
       "4            Johnson   Male  Pinot Noir        Segment 4  Australia   \n",
       "\n",
       "    Campaign  Past Peak Discount_name  \n",
       "0    January      False      Up to 30  \n",
       "1  September      False       [30,60]  \n",
       "2       July      False       [30,60]  \n",
       "3  September      False       [30,60]  \n",
       "4    October      False  more than 60  "
      ]
     },
     "execution_count": 26,
     "metadata": {},
     "output_type": "execute_result"
    }
   ],
   "source": [
    "data_str.head()"
   ]
  },
  {
   "cell_type": "code",
   "execution_count": 27,
   "id": "05623cc9",
   "metadata": {},
   "outputs": [],
   "source": [
    "wd_join=data_num.join(data_str,how='outer')"
   ]
  },
  {
   "cell_type": "code",
   "execution_count": 28,
   "id": "e0cae90c",
   "metadata": {},
   "outputs": [
    {
     "data": {
      "text/html": [
       "<div>\n",
       "<style scoped>\n",
       "    .dataframe tbody tr th:only-of-type {\n",
       "        vertical-align: middle;\n",
       "    }\n",
       "\n",
       "    .dataframe tbody tr th {\n",
       "        vertical-align: top;\n",
       "    }\n",
       "\n",
       "    .dataframe thead th {\n",
       "        text-align: right;\n",
       "    }\n",
       "</style>\n",
       "<table border=\"1\" class=\"dataframe\">\n",
       "  <thead>\n",
       "    <tr style=\"text-align: right;\">\n",
       "      <th></th>\n",
       "      <th>Discount</th>\n",
       "      <th>Minimum Qty (kg)</th>\n",
       "      <th>Customer Last Name</th>\n",
       "      <th>Gender</th>\n",
       "      <th>Varietal</th>\n",
       "      <th>Customer_Segment</th>\n",
       "      <th>Origin</th>\n",
       "      <th>Campaign</th>\n",
       "      <th>Past Peak</th>\n",
       "      <th>Discount_name</th>\n",
       "    </tr>\n",
       "  </thead>\n",
       "  <tbody>\n",
       "    <tr>\n",
       "      <th>0</th>\n",
       "      <td>17</td>\n",
       "      <td>72</td>\n",
       "      <td>Smith</td>\n",
       "      <td>Male</td>\n",
       "      <td>Pinot Noir</td>\n",
       "      <td>Segment 4</td>\n",
       "      <td>France</td>\n",
       "      <td>January</td>\n",
       "      <td>False</td>\n",
       "      <td>Up to 30</td>\n",
       "    </tr>\n",
       "    <tr>\n",
       "      <th>1</th>\n",
       "      <td>34</td>\n",
       "      <td>6</td>\n",
       "      <td>Smith</td>\n",
       "      <td>Male</td>\n",
       "      <td>Pinot Noir</td>\n",
       "      <td>Segment 4</td>\n",
       "      <td>Italy</td>\n",
       "      <td>September</td>\n",
       "      <td>False</td>\n",
       "      <td>[30,60]</td>\n",
       "    </tr>\n",
       "    <tr>\n",
       "      <th>2</th>\n",
       "      <td>47</td>\n",
       "      <td>12</td>\n",
       "      <td>Johnson</td>\n",
       "      <td>Male</td>\n",
       "      <td>Pinot Noir</td>\n",
       "      <td>Segment 4</td>\n",
       "      <td>Germany</td>\n",
       "      <td>July</td>\n",
       "      <td>False</td>\n",
       "      <td>[30,60]</td>\n",
       "    </tr>\n",
       "    <tr>\n",
       "      <th>3</th>\n",
       "      <td>34</td>\n",
       "      <td>6</td>\n",
       "      <td>Johnson</td>\n",
       "      <td>Male</td>\n",
       "      <td>Pinot Noir</td>\n",
       "      <td>Segment 4</td>\n",
       "      <td>Italy</td>\n",
       "      <td>September</td>\n",
       "      <td>False</td>\n",
       "      <td>[30,60]</td>\n",
       "    </tr>\n",
       "    <tr>\n",
       "      <th>4</th>\n",
       "      <td>83</td>\n",
       "      <td>144</td>\n",
       "      <td>Johnson</td>\n",
       "      <td>Male</td>\n",
       "      <td>Pinot Noir</td>\n",
       "      <td>Segment 4</td>\n",
       "      <td>Australia</td>\n",
       "      <td>October</td>\n",
       "      <td>False</td>\n",
       "      <td>more than 60</td>\n",
       "    </tr>\n",
       "  </tbody>\n",
       "</table>\n",
       "</div>"
      ],
      "text/plain": [
       "   Discount  Minimum Qty (kg) Customer Last Name Gender    Varietal  \\\n",
       "0        17                72              Smith   Male  Pinot Noir   \n",
       "1        34                 6              Smith   Male  Pinot Noir   \n",
       "2        47                12            Johnson   Male  Pinot Noir   \n",
       "3        34                 6            Johnson   Male  Pinot Noir   \n",
       "4        83               144            Johnson   Male  Pinot Noir   \n",
       "\n",
       "  Customer_Segment     Origin   Campaign  Past Peak Discount_name  \n",
       "0        Segment 4     France    January      False      Up to 30  \n",
       "1        Segment 4      Italy  September      False       [30,60]  \n",
       "2        Segment 4    Germany       July      False       [30,60]  \n",
       "3        Segment 4      Italy  September      False       [30,60]  \n",
       "4        Segment 4  Australia    October      False  more than 60  "
      ]
     },
     "execution_count": 28,
     "metadata": {},
     "output_type": "execute_result"
    }
   ],
   "source": [
    "wd_join.head()"
   ]
  },
  {
   "cell_type": "markdown",
   "id": "66b99908",
   "metadata": {},
   "source": [
    "# Bar Chart"
   ]
  },
  {
   "cell_type": "code",
   "execution_count": 29,
   "id": "ea6c2e65",
   "metadata": {},
   "outputs": [
    {
     "data": {
      "text/plain": [
       "Varietal\n",
       "Cabernet Sauvignon    51.625000\n",
       "Champagne             72.086420\n",
       "Chardonnay            51.000000\n",
       "Espumante             44.800000\n",
       "Malbec                54.625000\n",
       "Merlot                63.700000\n",
       "Pinot Grigio          87.000000\n",
       "Pinot Noir            48.909091\n",
       "Prosecco              59.790698\n",
       "Name: Discount, dtype: float64"
      ]
     },
     "execution_count": 29,
     "metadata": {},
     "output_type": "execute_result"
    }
   ],
   "source": [
    "wd_join.groupby('Varietal')['Discount'].mean()"
   ]
  },
  {
   "cell_type": "code",
   "execution_count": 30,
   "id": "744a1fcc",
   "metadata": {},
   "outputs": [
    {
     "data": {
      "image/png": "[encoded data removed]",
      "text/plain": [
       "<Figure size 936x576 with 1 Axes>"
      ]
     },
     "metadata": {},
     "output_type": "display_data"
    }
   ],
   "source": [
    "sns.set_style('darkgrid')\n",
    "\n",
    "plt.figure(figsize=(13,8))\n",
    "\n",
    "plt.bar(wd_join.Varietal.unique(),\n",
    "        wd_join.groupby('Varietal')['Discount'].mean())\n",
    "\n",
    "plt.show()"
   ]
  },
  {
   "cell_type": "code",
   "execution_count": 31,
   "id": "5dae1dc8",
   "metadata": {},
   "outputs": [
    {
     "name": "stderr",
     "output_type": "stream",
     "text": [
      "/Users/artyomkhandanyan/opt/anaconda3/lib/python3.8/site-packages/seaborn/_decorators.py:36: FutureWarning:\n",
      "\n",
      "Pass the following variables as keyword args: x, y. From version 0.12, the only valid positional argument will be `data`, and passing other arguments without an explicit keyword will result in an error or misinterpretation.\n",
      "\n"
     ]
    },
    {
     "data": {
      "image/png": "[encoded data removed]",
      "text/plain": [
       "<Figure size 936x576 with 1 Axes>"
      ]
     },
     "metadata": {},
     "output_type": "display_data"
    }
   ],
   "source": [
    "plt.figure(figsize=(13,8))\n",
    "\n",
    "sns.barplot(wd.Varietal.unique(),\n",
    "            wd.Varietal.value_counts())\n",
    "\n",
    "\n",
    "plt.show()"
   ]
  },
  {
   "cell_type": "markdown",
   "id": "fff73f42",
   "metadata": {},
   "source": [
    "# Histograms"
   ]
  },
  {
   "cell_type": "code",
   "execution_count": 32,
   "id": "bdcfa5e8",
   "metadata": {},
   "outputs": [
    {
     "name": "stderr",
     "output_type": "stream",
     "text": [
      "/Users/artyomkhandanyan/opt/anaconda3/lib/python3.8/site-packages/seaborn/distributions.py:2557: FutureWarning:\n",
      "\n",
      "`distplot` is a deprecated function and will be removed in a future version. Please adapt your code to use either `displot` (a figure-level function with similar flexibility) or `histplot` (an axes-level function for histograms).\n",
      "\n"
     ]
    },
    {
     "data": {
      "image/png": "[encoded data removed]",
      "text/plain": [
       "<Figure size 432x288 with 1 Axes>"
      ]
     },
     "metadata": {},
     "output_type": "display_data"
    }
   ],
   "source": [
    "sns.distplot(data_num.Discount,bins=10)\n",
    "plt.show()"
   ]
  },
  {
   "cell_type": "code",
   "execution_count": 33,
   "id": "fd76ba14",
   "metadata": {},
   "outputs": [
    {
     "name": "stderr",
     "output_type": "stream",
     "text": [
      "/Users/artyomkhandanyan/opt/anaconda3/lib/python3.8/site-packages/seaborn/distributions.py:2557: FutureWarning:\n",
      "\n",
      "`distplot` is a deprecated function and will be removed in a future version. Please adapt your code to use either `displot` (a figure-level function with similar flexibility) or `histplot` (an axes-level function for histograms).\n",
      "\n"
     ]
    },
    {
     "name": "stdout",
     "output_type": "stream",
     "text": [
      "Discount\n"
     ]
    },
    {
     "data": {
      "image/png": "[encoded data removed]",
      "text/plain": [
       "<Figure size 432x288 with 1 Axes>"
      ]
     },
     "metadata": {},
     "output_type": "display_data"
    },
    {
     "name": "stdout",
     "output_type": "stream",
     "text": [
      "Minimum Qty (kg)\n"
     ]
    },
    {
     "name": "stderr",
     "output_type": "stream",
     "text": [
      "/Users/artyomkhandanyan/opt/anaconda3/lib/python3.8/site-packages/seaborn/distributions.py:2557: FutureWarning:\n",
      "\n",
      "`distplot` is a deprecated function and will be removed in a future version. Please adapt your code to use either `displot` (a figure-level function with similar flexibility) or `histplot` (an axes-level function for histograms).\n",
      "\n"
     ]
    },
    {
     "data": {
      "image/png": "[encoded data removed]",
      "text/plain": [
       "<Figure size 432x288 with 1 Axes>"
      ]
     },
     "metadata": {},
     "output_type": "display_data"
    }
   ],
   "source": [
    "for i in data_num.columns:\n",
    "    print(i)\n",
    "    sns.distplot(data_num[i],bins=10)\n",
    "    plt.show() "
   ]
  },
  {
   "cell_type": "code",
   "execution_count": 34,
   "id": "b1169c49",
   "metadata": {},
   "outputs": [
    {
     "data": {
      "image/png": "[encoded data removed]",
      "text/plain": [
       "<Figure size 360x360 with 6 Axes>"
      ]
     },
     "metadata": {},
     "output_type": "display_data"
    }
   ],
   "source": [
    "sns.pairplot(data_num)\n",
    "plt.show()"
   ]
  },
  {
   "cell_type": "code",
   "execution_count": 35,
   "id": "90bb21a6",
   "metadata": {},
   "outputs": [
    {
     "data": {
      "image/png": "[encoded data removed]",
      "text/plain": [
       "<Figure size 432x288 with 1 Axes>"
      ]
     },
     "metadata": {},
     "output_type": "display_data"
    }
   ],
   "source": [
    "sns.boxplot(x=wd_join.Discount)\n",
    "plt.show()"
   ]
  },
  {
   "cell_type": "code",
   "execution_count": 36,
   "id": "eb4edbee",
   "metadata": {},
   "outputs": [
    {
     "data": {
      "image/png": "[encoded data removed]",
      "text/plain": [
       "<Figure size 432x288 with 1 Axes>"
      ]
     },
     "metadata": {},
     "output_type": "display_data"
    }
   ],
   "source": [
    "sns.boxplot(y=wd_join.Discount)\n",
    "plt.show()"
   ]
  },
  {
   "cell_type": "code",
   "execution_count": 37,
   "id": "9ea9d82c",
   "metadata": {},
   "outputs": [
    {
     "data": {
      "image/png": "[encoded data removed]",
      "text/plain": [
       "<Figure size 936x576 with 1 Axes>"
      ]
     },
     "metadata": {},
     "output_type": "display_data"
    }
   ],
   "source": [
    "plt.figure(figsize=(13,8))\n",
    "sns.boxplot(y=wd_join.Discount,x=wd_join.Varietal)\n",
    "plt.show()"
   ]
  },
  {
   "cell_type": "code",
   "execution_count": 38,
   "id": "fe5a429e",
   "metadata": {},
   "outputs": [
    {
     "data": {
      "text/html": [
       "<div>\n",
       "<style scoped>\n",
       "    .dataframe tbody tr th:only-of-type {\n",
       "        vertical-align: middle;\n",
       "    }\n",
       "\n",
       "    .dataframe tbody tr th {\n",
       "        vertical-align: top;\n",
       "    }\n",
       "\n",
       "    .dataframe thead th {\n",
       "        text-align: right;\n",
       "    }\n",
       "</style>\n",
       "<table border=\"1\" class=\"dataframe\">\n",
       "  <thead>\n",
       "    <tr style=\"text-align: right;\">\n",
       "      <th></th>\n",
       "      <th>Discount</th>\n",
       "      <th>Minimum Qty (kg)</th>\n",
       "    </tr>\n",
       "  </thead>\n",
       "  <tbody>\n",
       "    <tr>\n",
       "      <th>Discount</th>\n",
       "      <td>1.000000</td>\n",
       "      <td>0.208962</td>\n",
       "    </tr>\n",
       "    <tr>\n",
       "      <th>Minimum Qty (kg)</th>\n",
       "      <td>0.208962</td>\n",
       "      <td>1.000000</td>\n",
       "    </tr>\n",
       "  </tbody>\n",
       "</table>\n",
       "</div>"
      ],
      "text/plain": [
       "                  Discount  Minimum Qty (kg)\n",
       "Discount          1.000000          0.208962\n",
       "Minimum Qty (kg)  0.208962          1.000000"
      ]
     },
     "execution_count": 38,
     "metadata": {},
     "output_type": "execute_result"
    }
   ],
   "source": [
    "data_num.corr()"
   ]
  },
  {
   "cell_type": "code",
   "execution_count": 39,
   "id": "9deff668",
   "metadata": {},
   "outputs": [
    {
     "data": {
      "image/png": "[encoded data removed]",
      "text/plain": [
       "<Figure size 432x288 with 2 Axes>"
      ]
     },
     "metadata": {},
     "output_type": "display_data"
    }
   ],
   "source": [
    "sns.heatmap(data_num.corr(),annot=True)\n",
    "plt.show()"
   ]
  },
  {
   "cell_type": "code",
   "execution_count": 40,
   "id": "389407db",
   "metadata": {},
   "outputs": [
    {
     "data": {
      "text/plain": [
       "(0.20896189931265607, 0.00015144638556191636)"
      ]
     },
     "execution_count": 40,
     "metadata": {},
     "output_type": "execute_result"
    }
   ],
   "source": [
    "pearsonr(data_num.Discount,data_num['Minimum Qty (kg)'])"
   ]
  },
  {
   "cell_type": "markdown",
   "id": "727c8e20",
   "metadata": {},
   "source": [
    "> first value is correlation coefficient, second value is p-value. In our case p-value is less that alfa 0.05, which means that correlataion is stat significant."
   ]
  },
  {
   "cell_type": "code",
   "execution_count": 41,
   "id": "0d609e1c",
   "metadata": {},
   "outputs": [
    {
     "data": {
      "text/html": [
       "<div>\n",
       "<style scoped>\n",
       "    .dataframe tbody tr th:only-of-type {\n",
       "        vertical-align: middle;\n",
       "    }\n",
       "\n",
       "    .dataframe tbody tr th {\n",
       "        vertical-align: top;\n",
       "    }\n",
       "\n",
       "    .dataframe thead th {\n",
       "        text-align: right;\n",
       "    }\n",
       "</style>\n",
       "<table border=\"1\" class=\"dataframe\">\n",
       "  <thead>\n",
       "    <tr style=\"text-align: right;\">\n",
       "      <th>Gender</th>\n",
       "      <th>Female</th>\n",
       "      <th>Male</th>\n",
       "    </tr>\n",
       "  </thead>\n",
       "  <tbody>\n",
       "    <tr>\n",
       "      <th>Discount</th>\n",
       "      <td>59.876543</td>\n",
       "      <td>59.08642</td>\n",
       "    </tr>\n",
       "    <tr>\n",
       "      <th>Minimum Qty (kg)</th>\n",
       "      <td>59.185185</td>\n",
       "      <td>57.62963</td>\n",
       "    </tr>\n",
       "  </tbody>\n",
       "</table>\n",
       "</div>"
      ],
      "text/plain": [
       "Gender               Female      Male\n",
       "Discount          59.876543  59.08642\n",
       "Minimum Qty (kg)  59.185185  57.62963"
      ]
     },
     "execution_count": 41,
     "metadata": {},
     "output_type": "execute_result"
    }
   ],
   "source": [
    "pd.pivot_table(data=wd_join,columns='Gender',values=['Minimum Qty (kg)','Discount'])"
   ]
  },
  {
   "cell_type": "code",
   "execution_count": 42,
   "id": "a2f30316",
   "metadata": {},
   "outputs": [
    {
     "data": {
      "text/plain": [
       "24    17\n",
       "25    83\n",
       "37    56\n",
       "38    48\n",
       "39    57\n",
       "Name: Discount, dtype: int64"
      ]
     },
     "execution_count": 42,
     "metadata": {},
     "output_type": "execute_result"
    }
   ],
   "source": [
    "wd['Discount'][wd['Gender']=='Female'].head()"
   ]
  },
  {
   "cell_type": "markdown",
   "id": "b6270e9a",
   "metadata": {},
   "source": [
    "# T-test"
   ]
  },
  {
   "cell_type": "markdown",
   "id": "a8e9dac1",
   "metadata": {},
   "source": [
    "> H0: discount for female=discount for male\n",
    "  H1: discount for female is not equal to discount for male"
   ]
  },
  {
   "cell_type": "code",
   "execution_count": 43,
   "id": "c1b99223",
   "metadata": {},
   "outputs": [
    {
     "data": {
      "text/plain": [
       "Ttest_indResult(statistic=0.3493449018773563, pvalue=0.7270587420532792)"
      ]
     },
     "execution_count": 43,
     "metadata": {},
     "output_type": "execute_result"
    }
   ],
   "source": [
    "ttest_ind(wd['Discount'][wd['Gender']=='Female'],\n",
    "         wd['Discount'][wd['Gender']=='Male'])"
   ]
  },
  {
   "cell_type": "markdown",
   "id": "4d0decbf",
   "metadata": {},
   "source": [
    "> H0: discount female=discount male\n",
    "  H1: DF not equal to DM"
   ]
  },
  {
   "cell_type": "markdown",
   "id": "685b6ea3",
   "metadata": {},
   "source": [
    "p-value>0.05, we fail to Reject H0 ==> discount for femals and males are equal (no statistically significant difference between avg discount given to female and male respondents)"
   ]
  },
  {
   "cell_type": "code",
   "execution_count": 44,
   "id": "82ba1c9b",
   "metadata": {},
   "outputs": [
    {
     "name": "stdout",
     "output_type": "stream",
     "text": [
      "Discount\n",
      "Ttest_indResult(statistic=0.3493449018773563, pvalue=0.7270587420532792)\n",
      "Minimum Qty (kg)\n",
      "Ttest_indResult(statistic=0.2810538816316087, pvalue=0.7788495822610434)\n"
     ]
    }
   ],
   "source": [
    "for i in data_num.columns:\n",
    "    print(i)\n",
    "    print(ttest_ind(wd[i][wd['Gender']=='Female'],\n",
    "         wd[i][wd['Gender']=='Male']))"
   ]
  },
  {
   "cell_type": "code",
   "execution_count": 45,
   "id": "8b4f16cc",
   "metadata": {},
   "outputs": [],
   "source": [
    "from scipy.stats import levene \n",
    "#shows whether the variances of two or more variables are equal to or not."
   ]
  },
  {
   "cell_type": "markdown",
   "id": "90641d88",
   "metadata": {},
   "source": [
    "H0: variances are equal\n",
    "H1: variances are not equal"
   ]
  },
  {
   "cell_type": "code",
   "execution_count": 46,
   "id": "16dcb0fa",
   "metadata": {},
   "outputs": [
    {
     "data": {
      "text/plain": [
       "LeveneResult(statistic=0.8097998601665954, pvalue=0.3688519181536686)"
      ]
     },
     "execution_count": 46,
     "metadata": {},
     "output_type": "execute_result"
    }
   ],
   "source": [
    "levene(wd['Discount'][wd['Gender']=='Female'],\n",
    "         wd['Discount'][wd['Gender']=='Male'])"
   ]
  },
  {
   "cell_type": "markdown",
   "id": "9966b4f1",
   "metadata": {},
   "source": [
    "p-value>0.05, fail to reject H0."
   ]
  },
  {
   "cell_type": "markdown",
   "id": "fa7bc644",
   "metadata": {},
   "source": [
    "# One-way Anova test"
   ]
  },
  {
   "cell_type": "code",
   "execution_count": 47,
   "id": "223874c5",
   "metadata": {},
   "outputs": [
    {
     "data": {
      "text/plain": [
       "F_onewayResult(statistic=28.03200050009234, pvalue=6.0178135475001005e-12)"
      ]
     },
     "execution_count": 47,
     "metadata": {},
     "output_type": "execute_result"
    }
   ],
   "source": [
    "f_oneway(wd['Minimum Qty (kg)'][wd['Discount_name']=='Up to 30'],\n",
    "        wd['Minimum Qty (kg)'][wd['Discount_name']=='[30,60]'],\n",
    "        wd['Minimum Qty (kg)'][wd['Discount_name']=='more than 60']\n",
    "        )"
   ]
  },
  {
   "cell_type": "markdown",
   "id": "60ce183d",
   "metadata": {},
   "source": [
    "> p-value<0.05, we fail to reject H0. Not stat significant. So, we can confirm that avg Minimumum Qty is statsically significantly different by discount ranges."
   ]
  },
  {
   "cell_type": "code",
   "execution_count": 48,
   "id": "ff2fd096",
   "metadata": {},
   "outputs": [
    {
     "data": {
      "text/plain": [
       "LeveneResult(statistic=2.1276213771479866, pvalue=0.12079713843119513)"
      ]
     },
     "execution_count": 48,
     "metadata": {},
     "output_type": "execute_result"
    }
   ],
   "source": [
    "levene(wd['Minimum Qty (kg)'][wd['Discount_name']=='Up to 30'],\n",
    "        wd['Minimum Qty (kg)'][wd['Discount_name']=='[30,60]'],\n",
    "        wd['Minimum Qty (kg)'][wd['Discount_name']=='more than 60'])"
   ]
  },
  {
   "cell_type": "markdown",
   "id": "44d32051",
   "metadata": {},
   "source": [
    "> pvalue>0.05, so we fail to reject H0 (variances for this thre categories are equal). We can trust the one-way annova test results."
   ]
  },
  {
   "cell_type": "markdown",
   "id": "bca0704b",
   "metadata": {},
   "source": []
  }
 ],
 "metadata": {
  "kernelspec": {
   "display_name": "Python 3",
   "language": "python",
   "name": "python3"
  },
  "language_info": {
   "codemirror_mode": {
    "name": "ipython",
    "version": 3
   },
   "file_extension": ".py",
   "mimetype": "text/x-python",
   "name": "python",
   "nbconvert_exporter": "python",
   "pygments_lexer": "ipython3",
   "version": "3.8.8"
  }
 },
 "nbformat": 4,
 "nbformat_minor": 5
}
