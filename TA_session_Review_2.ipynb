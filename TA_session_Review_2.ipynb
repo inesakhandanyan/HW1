{
 "cells": [
  {
   "cell_type": "code",
   "execution_count": 59,
   "id": "aeab88a4",
   "metadata": {},
   "outputs": [],
   "source": [
    "import numpy as np\n",
    "import pandas as pd\n",
    "import matplotlib.pyplot as plt\n",
    "import seaborn as sns\n",
    "from sklearn.preprocessing import StandardScaler\n",
    "from sklearn.linear_model import LogisticRegression\n",
    "from sklearn.tree import DecisionTreeClassifier\n",
    "from sklearn.model_selection import train_test_split, GridSearchCV, cross_val_score\n",
    "from sklearn.metrics import *\n",
    "import scikitplot as skplt\n",
    "from statsmodels.discrete.discrete_model import Logit"
   ]
  },
  {
   "cell_type": "code",
   "execution_count": 3,
   "id": "f802442e",
   "metadata": {},
   "outputs": [],
   "source": [
    "data=pd.read_csv(\"default.csv\")"
   ]
  },
  {
   "cell_type": "code",
   "execution_count": 5,
   "id": "59fb06b7",
   "metadata": {},
   "outputs": [
    {
     "data": {
      "text/plain": [
       "(1000, 21)"
      ]
     },
     "execution_count": 5,
     "metadata": {},
     "output_type": "execute_result"
    }
   ],
   "source": [
    "data.shape #shape"
   ]
  },
  {
   "cell_type": "code",
   "execution_count": 6,
   "id": "7f1095db",
   "metadata": {},
   "outputs": [
    {
     "data": {
      "text/html": [
       "<div>\n",
       "<style scoped>\n",
       "    .dataframe tbody tr th:only-of-type {\n",
       "        vertical-align: middle;\n",
       "    }\n",
       "\n",
       "    .dataframe tbody tr th {\n",
       "        vertical-align: top;\n",
       "    }\n",
       "\n",
       "    .dataframe thead th {\n",
       "        text-align: right;\n",
       "    }\n",
       "</style>\n",
       "<table border=\"1\" class=\"dataframe\">\n",
       "  <thead>\n",
       "    <tr style=\"text-align: right;\">\n",
       "      <th></th>\n",
       "      <th>default</th>\n",
       "      <th>account_check_status</th>\n",
       "      <th>duration_in_month</th>\n",
       "      <th>credit_history</th>\n",
       "      <th>purpose</th>\n",
       "      <th>credit_amount</th>\n",
       "      <th>savings</th>\n",
       "      <th>present_emp_since</th>\n",
       "      <th>installment_as_income_perc</th>\n",
       "      <th>personal_status_sex</th>\n",
       "      <th>...</th>\n",
       "      <th>present_res_since</th>\n",
       "      <th>property</th>\n",
       "      <th>age</th>\n",
       "      <th>other_installment_plans</th>\n",
       "      <th>housing</th>\n",
       "      <th>credits_this_bank</th>\n",
       "      <th>job</th>\n",
       "      <th>people_under_maintenance</th>\n",
       "      <th>telephone</th>\n",
       "      <th>foreign_worker</th>\n",
       "    </tr>\n",
       "  </thead>\n",
       "  <tbody>\n",
       "    <tr>\n",
       "      <th>0</th>\n",
       "      <td>0</td>\n",
       "      <td>&lt; 0 DM</td>\n",
       "      <td>6</td>\n",
       "      <td>critical account/ other credits existing (not ...</td>\n",
       "      <td>domestic appliances</td>\n",
       "      <td>1169</td>\n",
       "      <td>unknown/ no savings account</td>\n",
       "      <td>.. &gt;= 7 years</td>\n",
       "      <td>4</td>\n",
       "      <td>male : single</td>\n",
       "      <td>...</td>\n",
       "      <td>4</td>\n",
       "      <td>real estate</td>\n",
       "      <td>67</td>\n",
       "      <td>none</td>\n",
       "      <td>own</td>\n",
       "      <td>2</td>\n",
       "      <td>skilled employee / official</td>\n",
       "      <td>1</td>\n",
       "      <td>yes, registered under the customers name</td>\n",
       "      <td>yes</td>\n",
       "    </tr>\n",
       "    <tr>\n",
       "      <th>1</th>\n",
       "      <td>1</td>\n",
       "      <td>0 &lt;= ... &lt; 200 DM</td>\n",
       "      <td>48</td>\n",
       "      <td>existing credits paid back duly till now</td>\n",
       "      <td>domestic appliances</td>\n",
       "      <td>5951</td>\n",
       "      <td>... &lt; 100 DM</td>\n",
       "      <td>1 &lt;= ... &lt; 4 years</td>\n",
       "      <td>2</td>\n",
       "      <td>female : divorced/separated/married</td>\n",
       "      <td>...</td>\n",
       "      <td>2</td>\n",
       "      <td>real estate</td>\n",
       "      <td>22</td>\n",
       "      <td>none</td>\n",
       "      <td>own</td>\n",
       "      <td>1</td>\n",
       "      <td>skilled employee / official</td>\n",
       "      <td>1</td>\n",
       "      <td>none</td>\n",
       "      <td>yes</td>\n",
       "    </tr>\n",
       "    <tr>\n",
       "      <th>2</th>\n",
       "      <td>0</td>\n",
       "      <td>no checking account</td>\n",
       "      <td>12</td>\n",
       "      <td>critical account/ other credits existing (not ...</td>\n",
       "      <td>(vacation - does not exist?)</td>\n",
       "      <td>2096</td>\n",
       "      <td>... &lt; 100 DM</td>\n",
       "      <td>4 &lt;= ... &lt; 7 years</td>\n",
       "      <td>2</td>\n",
       "      <td>male : single</td>\n",
       "      <td>...</td>\n",
       "      <td>3</td>\n",
       "      <td>real estate</td>\n",
       "      <td>49</td>\n",
       "      <td>none</td>\n",
       "      <td>own</td>\n",
       "      <td>1</td>\n",
       "      <td>unskilled - resident</td>\n",
       "      <td>2</td>\n",
       "      <td>none</td>\n",
       "      <td>yes</td>\n",
       "    </tr>\n",
       "    <tr>\n",
       "      <th>3</th>\n",
       "      <td>0</td>\n",
       "      <td>&lt; 0 DM</td>\n",
       "      <td>42</td>\n",
       "      <td>existing credits paid back duly till now</td>\n",
       "      <td>radio/television</td>\n",
       "      <td>7882</td>\n",
       "      <td>... &lt; 100 DM</td>\n",
       "      <td>4 &lt;= ... &lt; 7 years</td>\n",
       "      <td>2</td>\n",
       "      <td>male : single</td>\n",
       "      <td>...</td>\n",
       "      <td>4</td>\n",
       "      <td>if not A121 : building society savings agreeme...</td>\n",
       "      <td>45</td>\n",
       "      <td>none</td>\n",
       "      <td>for free</td>\n",
       "      <td>1</td>\n",
       "      <td>skilled employee / official</td>\n",
       "      <td>2</td>\n",
       "      <td>none</td>\n",
       "      <td>yes</td>\n",
       "    </tr>\n",
       "    <tr>\n",
       "      <th>4</th>\n",
       "      <td>1</td>\n",
       "      <td>&lt; 0 DM</td>\n",
       "      <td>24</td>\n",
       "      <td>delay in paying off in the past</td>\n",
       "      <td>car (new)</td>\n",
       "      <td>4870</td>\n",
       "      <td>... &lt; 100 DM</td>\n",
       "      <td>1 &lt;= ... &lt; 4 years</td>\n",
       "      <td>3</td>\n",
       "      <td>male : single</td>\n",
       "      <td>...</td>\n",
       "      <td>4</td>\n",
       "      <td>unknown / no property</td>\n",
       "      <td>53</td>\n",
       "      <td>none</td>\n",
       "      <td>for free</td>\n",
       "      <td>2</td>\n",
       "      <td>skilled employee / official</td>\n",
       "      <td>2</td>\n",
       "      <td>none</td>\n",
       "      <td>yes</td>\n",
       "    </tr>\n",
       "  </tbody>\n",
       "</table>\n",
       "<p>5 rows × 21 columns</p>\n",
       "</div>"
      ],
      "text/plain": [
       "   default account_check_status  duration_in_month  \\\n",
       "0        0               < 0 DM                  6   \n",
       "1        1    0 <= ... < 200 DM                 48   \n",
       "2        0  no checking account                 12   \n",
       "3        0               < 0 DM                 42   \n",
       "4        1               < 0 DM                 24   \n",
       "\n",
       "                                      credit_history  \\\n",
       "0  critical account/ other credits existing (not ...   \n",
       "1           existing credits paid back duly till now   \n",
       "2  critical account/ other credits existing (not ...   \n",
       "3           existing credits paid back duly till now   \n",
       "4                    delay in paying off in the past   \n",
       "\n",
       "                        purpose  credit_amount                      savings  \\\n",
       "0           domestic appliances           1169  unknown/ no savings account   \n",
       "1           domestic appliances           5951                 ... < 100 DM   \n",
       "2  (vacation - does not exist?)           2096                 ... < 100 DM   \n",
       "3              radio/television           7882                 ... < 100 DM   \n",
       "4                     car (new)           4870                 ... < 100 DM   \n",
       "\n",
       "    present_emp_since  installment_as_income_perc  \\\n",
       "0       .. >= 7 years                           4   \n",
       "1  1 <= ... < 4 years                           2   \n",
       "2  4 <= ... < 7 years                           2   \n",
       "3  4 <= ... < 7 years                           2   \n",
       "4  1 <= ... < 4 years                           3   \n",
       "\n",
       "                   personal_status_sex  ... present_res_since  \\\n",
       "0                        male : single  ...                 4   \n",
       "1  female : divorced/separated/married  ...                 2   \n",
       "2                        male : single  ...                 3   \n",
       "3                        male : single  ...                 4   \n",
       "4                        male : single  ...                 4   \n",
       "\n",
       "                                            property age  \\\n",
       "0                                        real estate  67   \n",
       "1                                        real estate  22   \n",
       "2                                        real estate  49   \n",
       "3  if not A121 : building society savings agreeme...  45   \n",
       "4                              unknown / no property  53   \n",
       "\n",
       "   other_installment_plans   housing credits_this_bank  \\\n",
       "0                     none       own                 2   \n",
       "1                     none       own                 1   \n",
       "2                     none       own                 1   \n",
       "3                     none  for free                 1   \n",
       "4                     none  for free                 2   \n",
       "\n",
       "                           job people_under_maintenance  \\\n",
       "0  skilled employee / official                        1   \n",
       "1  skilled employee / official                        1   \n",
       "2         unskilled - resident                        2   \n",
       "3  skilled employee / official                        2   \n",
       "4  skilled employee / official                        2   \n",
       "\n",
       "                                   telephone foreign_worker  \n",
       "0  yes, registered under the customers name             yes  \n",
       "1                                       none            yes  \n",
       "2                                       none            yes  \n",
       "3                                       none            yes  \n",
       "4                                       none            yes  \n",
       "\n",
       "[5 rows x 21 columns]"
      ]
     },
     "execution_count": 6,
     "metadata": {},
     "output_type": "execute_result"
    }
   ],
   "source": [
    "data.head()"
   ]
  },
  {
   "cell_type": "code",
   "execution_count": 7,
   "id": "d7652568",
   "metadata": {},
   "outputs": [
    {
     "name": "stdout",
     "output_type": "stream",
     "text": [
      "<class 'pandas.core.frame.DataFrame'>\n",
      "RangeIndex: 1000 entries, 0 to 999\n",
      "Data columns (total 21 columns):\n",
      " #   Column                      Non-Null Count  Dtype \n",
      "---  ------                      --------------  ----- \n",
      " 0   default                     1000 non-null   int64 \n",
      " 1   account_check_status        1000 non-null   object\n",
      " 2   duration_in_month           1000 non-null   int64 \n",
      " 3   credit_history              1000 non-null   object\n",
      " 4   purpose                     1000 non-null   object\n",
      " 5   credit_amount               1000 non-null   int64 \n",
      " 6   savings                     1000 non-null   object\n",
      " 7   present_emp_since           1000 non-null   object\n",
      " 8   installment_as_income_perc  1000 non-null   int64 \n",
      " 9   personal_status_sex         1000 non-null   object\n",
      " 10  other_debtors               1000 non-null   object\n",
      " 11  present_res_since           1000 non-null   int64 \n",
      " 12  property                    1000 non-null   object\n",
      " 13  age                         1000 non-null   int64 \n",
      " 14  other_installment_plans     1000 non-null   object\n",
      " 15  housing                     1000 non-null   object\n",
      " 16  credits_this_bank           1000 non-null   int64 \n",
      " 17  job                         1000 non-null   object\n",
      " 18  people_under_maintenance    1000 non-null   int64 \n",
      " 19  telephone                   1000 non-null   object\n",
      " 20  foreign_worker              1000 non-null   object\n",
      "dtypes: int64(8), object(13)\n",
      "memory usage: 164.2+ KB\n"
     ]
    }
   ],
   "source": [
    "data.info()"
   ]
  },
  {
   "cell_type": "code",
   "execution_count": 8,
   "id": "f5de03a2",
   "metadata": {},
   "outputs": [
    {
     "data": {
      "text/plain": [
       "0    70.0\n",
       "1    30.0\n",
       "Name: default, dtype: float64"
      ]
     },
     "execution_count": 8,
     "metadata": {},
     "output_type": "execute_result"
    }
   ],
   "source": [
    "data.default.value_counts(normalize=True)*100 #percentages of naive model"
   ]
  },
  {
   "cell_type": "code",
   "execution_count": 9,
   "id": "901a4c5f",
   "metadata": {},
   "outputs": [
    {
     "name": "stdout",
     "output_type": "stream",
     "text": [
      "Duplicates: 0\n",
      "Missing values: 0\n",
      "Single valued columns: Index([], dtype='object')\n"
     ]
    }
   ],
   "source": [
    "print(\"Duplicates:\", data.duplicated().sum())       \n",
    "print(\"Missing values:\", data.isna().sum().sum())   \n",
    "print(\"Single valued columns:\", data.columns[data.nunique()==1])"
   ]
  },
  {
   "cell_type": "code",
   "execution_count": 12,
   "id": "68b77122",
   "metadata": {},
   "outputs": [
    {
     "data": {
      "text/plain": [
       "0"
      ]
     },
     "execution_count": 12,
     "metadata": {},
     "output_type": "execute_result"
    }
   ],
   "source": [
    "data.savings.isna().any().sum() #misisng values for one ccolumn"
   ]
  },
  {
   "cell_type": "code",
   "execution_count": 13,
   "id": "04018c7b",
   "metadata": {},
   "outputs": [
    {
     "data": {
      "text/plain": [
       "0"
      ]
     },
     "execution_count": 13,
     "metadata": {},
     "output_type": "execute_result"
    }
   ],
   "source": [
    "data.purpose.isna().any().sum()"
   ]
  },
  {
   "cell_type": "code",
   "execution_count": 17,
   "id": "57cb6b75",
   "metadata": {},
   "outputs": [
    {
     "name": "stdout",
     "output_type": "stream",
     "text": [
      "0               domestic appliances\n",
      "1               domestic appliances\n",
      "2      (vacation - does not exist?)\n",
      "3                  radio/television\n",
      "4                         car (new)\n",
      "                   ...             \n",
      "995                radio/television\n",
      "996                      car (used)\n",
      "997             domestic appliances\n",
      "998             domestic appliances\n",
      "999                      car (used)\n",
      "Name: purpose, Length: 1000, dtype: object\n"
     ]
    }
   ],
   "source": [
    "print(data.purpose)"
   ]
  },
  {
   "cell_type": "code",
   "execution_count": 14,
   "id": "11f1683c",
   "metadata": {},
   "outputs": [
    {
     "data": {
      "text/plain": [
       "0    64.948454\n",
       "1    35.051546\n",
       "Name: default, dtype: float64"
      ]
     },
     "execution_count": 14,
     "metadata": {},
     "output_type": "execute_result"
    }
   ],
   "source": [
    "data[data['purpose']=='business']['default'].value_counts(normalize=True)*100 #default rate for purpose"
   ]
  },
  {
   "cell_type": "code",
   "execution_count": 18,
   "id": "99d8b2bb",
   "metadata": {},
   "outputs": [
    {
     "data": {
      "text/plain": [
       "0    77.857143\n",
       "1    22.142857\n",
       "Name: default, dtype: float64"
      ]
     },
     "execution_count": 18,
     "metadata": {},
     "output_type": "execute_result"
    }
   ],
   "source": [
    "data[data['purpose']=='domestic appliances']['default'].value_counts(normalize=True)*100"
   ]
  },
  {
   "cell_type": "code",
   "execution_count": 20,
   "id": "ac61ba30",
   "metadata": {},
   "outputs": [
    {
     "name": "stderr",
     "output_type": "stream",
     "text": [
      "/Users/artyomkhandanyan/opt/anaconda3/lib/python3.8/site-packages/seaborn/distributions.py:2557: FutureWarning: `distplot` is a deprecated function and will be removed in a future version. Please adapt your code to use either `displot` (a figure-level function with similar flexibility) or `histplot` (an axes-level function for histograms).\n",
      "  warnings.warn(msg, FutureWarning)\n"
     ]
    },
    {
     "data": {
      "image/png": "[encoded data removed]",
      "text/plain": [
       "<Figure size 1080x360 with 1 Axes>"
      ]
     },
     "metadata": {
      "needs_background": "light"
     },
     "output_type": "display_data"
    }
   ],
   "source": [
    "plt.figure(figsize=(15,5))\n",
    "sns.distplot(data.credit_amount)\n",
    "plt.savefig(\"Credit_amoung.jpg\")\n",
    "plt.show() #distirbution\n",
    "#we can devide the credit amount into binary variable with 1s representing the people who have credit amonut less than the mean and 0s representing people who have credit amount more than the mean"
   ]
  },
  {
   "cell_type": "code",
   "execution_count": 21,
   "id": "47660674",
   "metadata": {},
   "outputs": [
    {
     "name": "stderr",
     "output_type": "stream",
     "text": [
      "/Users/artyomkhandanyan/opt/anaconda3/lib/python3.8/site-packages/seaborn/distributions.py:2557: FutureWarning: `distplot` is a deprecated function and will be removed in a future version. Please adapt your code to use either `displot` (a figure-level function with similar flexibility) or `histplot` (an axes-level function for histograms).\n",
      "  warnings.warn(msg, FutureWarning)\n"
     ]
    },
    {
     "data": {
      "image/png": "[encoded data removed]",
      "text/plain": [
       "<Figure size 864x576 with 1 Axes>"
      ]
     },
     "metadata": {
      "needs_background": "light"
     },
     "output_type": "display_data"
    }
   ],
   "source": [
    "plt.figure(figsize=(12,8))\n",
    "sns.distplot(np.log(data.credit_amount))\n",
    "plt.title(\"Credit Amount\")\n",
    "plt.show() "
   ]
  },
  {
   "cell_type": "code",
   "execution_count": 22,
   "id": "affaccb2",
   "metadata": {},
   "outputs": [
    {
     "name": "stderr",
     "output_type": "stream",
     "text": [
      "/Users/artyomkhandanyan/opt/anaconda3/lib/python3.8/site-packages/seaborn/_decorators.py:36: FutureWarning: Pass the following variable as a keyword arg: x. From version 0.12, the only valid positional argument will be `data`, and passing other arguments without an explicit keyword will result in an error or misinterpretation.\n",
      "  warnings.warn(\n"
     ]
    },
    {
     "data": {
      "image/png": "[encoded data removed]",
      "text/plain": [
       "<Figure size 720x360 with 1 Axes>"
      ]
     },
     "metadata": {
      "needs_background": "light"
     },
     "output_type": "display_data"
    }
   ],
   "source": [
    "#seven\n",
    "plt.figure(figsize=(10,5))\n",
    "sns.countplot(data.duration_in_month)\n",
    "plt.show()"
   ]
  },
  {
   "cell_type": "code",
   "execution_count": 27,
   "id": "820bba56",
   "metadata": {},
   "outputs": [
    {
     "data": {
      "image/png": "[encoded data removed]",
      "text/plain": [
       "<Figure size 648x360 with 1 Axes>"
      ]
     },
     "metadata": {
      "needs_background": "light"
     },
     "output_type": "display_data"
    }
   ],
   "source": [
    "plt.figure(figsize=(9,5))\n",
    "plt.hist(data.duration_in_month)\n",
    "plt.title(\"duration in month\")\n",
    "plt.show()"
   ]
  },
  {
   "cell_type": "code",
   "execution_count": 26,
   "id": "06050bea",
   "metadata": {},
   "outputs": [
    {
     "data": {
      "image/png": "[encoded data removed]",
      "text/plain": [
       "<Figure size 432x288 with 1 Axes>"
      ]
     },
     "metadata": {
      "needs_background": "light"
     },
     "output_type": "display_data"
    }
   ],
   "source": [
    "sns.boxplot(y=data[\"duration_in_month\"], x=data[\"default\"], showmeans=True, data=data)\n",
    "plt.title(\"Boxplot duration_in_month\")\n",
    "plt.show()"
   ]
  },
  {
   "cell_type": "code",
   "execution_count": 28,
   "id": "2381a5c7",
   "metadata": {},
   "outputs": [],
   "source": [
    "# I think that the variable duration_in_month is significant, as the ranges of data are different. Also, the mean and median are different for defaults and non-defaults."
   ]
  },
  {
   "cell_type": "code",
   "execution_count": 35,
   "id": "6884add5",
   "metadata": {},
   "outputs": [
    {
     "data": {
      "image/png": "[encoded data removed]",
      "text/plain": [
       "<Figure size 1800x720 with 1 Axes>"
      ]
     },
     "metadata": {
      "needs_background": "light"
     },
     "output_type": "display_data"
    }
   ],
   "source": [
    "#countplot 8,9\n",
    "plt.figure(figsize=(25,10))\n",
    "sns.countplot(x=\"purpose\", hue=\"default\", data=data)\n",
    "plt.savefig(\"Purpose_countplot.jpg\")\n",
    "plt.show() #I think all the categories are significant because default rate is different for each of them even though the 0s are amlost always greater than 1s."
   ]
  },
  {
   "cell_type": "code",
   "execution_count": 38,
   "id": "a52e7ab9",
   "metadata": {},
   "outputs": [
    {
     "data": {
      "image/png": "[encoded data removed]",
      "text/plain": [
       "<Figure size 1800x720 with 1 Axes>"
      ]
     },
     "metadata": {
      "needs_background": "light"
     },
     "output_type": "display_data"
    }
   ],
   "source": [
    "#countplot\n",
    "plt.figure(figsize=(25,10))\n",
    "sns.countplot(x=\"credit_history\", hue=\"default\", data=data)\n",
    "plt.savefig(\"Credit_History_countplot.jpg\")\n",
    "plt.show()"
   ]
  },
  {
   "cell_type": "code",
   "execution_count": 40,
   "id": "4630a87e",
   "metadata": {},
   "outputs": [
    {
     "data": {
      "text/plain": [
       "<AxesSubplot:>"
      ]
     },
     "execution_count": 40,
     "metadata": {},
     "output_type": "execute_result"
    },
    {
     "data": {
      "image/png": "[encoded data removed]",
      "text/plain": [
       "<Figure size 1080x720 with 2 Axes>"
      ]
     },
     "metadata": {
      "needs_background": "light"
     },
     "output_type": "display_data"
    }
   ],
   "source": [
    "plt.figure(figsize=(15,10)) #10\n",
    "sns.heatmap(data.corr().round(2), annot=True) #duration in month and credit_amount, positive"
   ]
  },
  {
   "cell_type": "markdown",
   "id": "8bbe3f0c",
   "metadata": {},
   "source": [
    "# Creating dummies"
   ]
  },
  {
   "cell_type": "code",
   "execution_count": 42,
   "id": "7087f043",
   "metadata": {},
   "outputs": [],
   "source": [
    "data_num=data.select_dtypes(exclude=\"object\")\n",
    "data_obj=data.select_dtypes(include=\"object\")"
   ]
  },
  {
   "cell_type": "code",
   "execution_count": 43,
   "id": "85fdfdd3",
   "metadata": {},
   "outputs": [],
   "source": [
    "data_dummies=pd.get_dummies(data_obj, prefix=data_obj.columns,drop_first=True)\n",
    "data=data_num.join(data_dummies)"
   ]
  },
  {
   "cell_type": "code",
   "execution_count": 44,
   "id": "3a6d6ccd",
   "metadata": {},
   "outputs": [],
   "source": [
    "# separating x and y \n",
    "\n",
    "Y = data['default']\n",
    "X = data.drop('default', axis = 1)"
   ]
  },
  {
   "cell_type": "code",
   "execution_count": 45,
   "id": "3975517c",
   "metadata": {},
   "outputs": [],
   "source": [
    "X=pd.get_dummies(X, drop_first=True) #creating dummies"
   ]
  },
  {
   "cell_type": "code",
   "execution_count": 46,
   "id": "0f55ddc2",
   "metadata": {},
   "outputs": [
    {
     "data": {
      "text/plain": [
       "(1000, 49)"
      ]
     },
     "execution_count": 46,
     "metadata": {},
     "output_type": "execute_result"
    }
   ],
   "source": [
    "data.shape #new shape"
   ]
  },
  {
   "cell_type": "markdown",
   "id": "2a83d1ca",
   "metadata": {},
   "source": [
    "# Creating Logistics model"
   ]
  },
  {
   "cell_type": "code",
   "execution_count": 47,
   "id": "cee3b4b4",
   "metadata": {},
   "outputs": [],
   "source": [
    "#tarin test split\n",
    "X0, X1, Y0, Y1= train_test_split(X,Y, test_size=0.25, random_state=42)"
   ]
  },
  {
   "cell_type": "code",
   "execution_count": 48,
   "id": "4033053e",
   "metadata": {},
   "outputs": [],
   "source": [
    "#scaling the data \n",
    "scaler = StandardScaler()\n",
    "scaler.fit(X0)\n",
    "X0_scaled = pd.DataFrame(scaler.transform(X0), columns=X0.columns)\n",
    "X1_scaled = pd.DataFrame(scaler.transform(X1), columns=X1.columns)"
   ]
  },
  {
   "cell_type": "code",
   "execution_count": 49,
   "id": "55c8807d",
   "metadata": {},
   "outputs": [
    {
     "data": {
      "text/plain": [
       "LogisticRegression(random_state=42)"
      ]
     },
     "execution_count": 49,
     "metadata": {},
     "output_type": "execute_result"
    }
   ],
   "source": [
    "#creating the model\n",
    "logit=LogisticRegression(random_state=42)\n",
    "logit.fit(X0_scaled,Y0)"
   ]
  },
  {
   "cell_type": "code",
   "execution_count": 50,
   "id": "e614b07e",
   "metadata": {},
   "outputs": [],
   "source": [
    "# initial logitic regression \n",
    "\n",
    "logit  = LogisticRegression(C = 0.003, class_weight = None, random_state = 42).fit(X0_scaled, Y0)"
   ]
  },
  {
   "cell_type": "code",
   "execution_count": 51,
   "id": "b0c3c3d7",
   "metadata": {},
   "outputs": [],
   "source": [
    "#getting initial probabilities \n",
    "\n",
    "Y0_logit = logit.predict_proba(X0_scaled)[:,1]\n",
    "Y1_logit = logit.predict_proba(X1_scaled)[:,1]"
   ]
  },
  {
   "cell_type": "code",
   "execution_count": 52,
   "id": "1e871a57",
   "metadata": {},
   "outputs": [
    {
     "name": "stdout",
     "output_type": "stream",
     "text": [
      "ROC_AUC Train: 0.8163272165087047\n",
      "ROC_AUC Test: 0.800483770287141\n"
     ]
    }
   ],
   "source": [
    "# caclualting roc_auc score \n",
    "\n",
    "print(\"ROC_AUC Train:\", roc_auc_score(Y0,Y0_logit))\n",
    "print(\"ROC_AUC Test:\", roc_auc_score(Y1,Y1_logit))"
   ]
  },
  {
   "cell_type": "code",
   "execution_count": 53,
   "id": "36527052",
   "metadata": {},
   "outputs": [
    {
     "name": "stdout",
     "output_type": "stream",
     "text": [
      "Fitting 5 folds for each of 20 candidates, totalling 100 fits\n"
     ]
    }
   ],
   "source": [
    "#setting up the ranges for hyperparameters\n",
    "\n",
    "param_logit = {'class_weight':[None, \"balanced\"], 'C':np.linspace(0.001,0.1,10)}\n",
    "\n",
    "# grid search for getting the best hyperparpameters\n",
    "\n",
    "gs_logit = GridSearchCV(estimator=LogisticRegression(random_state=42), param_grid = param_logit, scoring = 'roc_auc', cv=5, verbose=1).fit(X0_scaled,Y0)"
   ]
  },
  {
   "cell_type": "code",
   "execution_count": 54,
   "id": "b63c34b4",
   "metadata": {},
   "outputs": [
    {
     "data": {
      "text/plain": [
       "{'C': 0.001, 'class_weight': 'balanced'}"
      ]
     },
     "execution_count": 54,
     "metadata": {},
     "output_type": "execute_result"
    }
   ],
   "source": [
    "#getting best parameters\n",
    "best_params_logit = gs_logit.best_params_\n",
    "best_params_logit"
   ]
  },
  {
   "cell_type": "code",
   "execution_count": 55,
   "id": "6ee7f06c",
   "metadata": {},
   "outputs": [],
   "source": [
    "# fitting Logit with best params of the gridsearch \n",
    "\n",
    "logit_grid = LogisticRegression(C=best_params_logit['C'], class_weight = best_params_logit['class_weight'], random_state=42).fit(X0_scaled, Y0)\n",
    "\n",
    "#getting probabilities \n",
    "\n",
    "Y0_logit = logit_grid.predict_proba(X0_scaled)[:,1]\n",
    "Y1_logit = logit_grid.predict_proba(X1_scaled)[:,1]\n",
    "\n",
    "#transform to binary prediction \n",
    "\n",
    "Y0_logit_bin = np.where(Y0_logit > 0.5,1,0)     #logit_grid.predict(X0_scaled)\n",
    "Y1_logit_bin = np.where(Y1_logit > 0.5,1,0)"
   ]
  },
  {
   "cell_type": "code",
   "execution_count": 56,
   "id": "b47d884f",
   "metadata": {},
   "outputs": [
    {
     "name": "stdout",
     "output_type": "stream",
     "text": [
      "ROC_AUC Train: 0.8114455199300935\n",
      "ROC_AUC Test: 0.7972066167290887\n",
      "Recall Train: 0.7807017543859649\n",
      "Recall Test: 0.7638888888888888\n",
      "Accuracy Train: 0.7373333333333333\n",
      "Accuracy Test: 0.74\n"
     ]
    }
   ],
   "source": [
    "\n",
    "print(\"ROC_AUC Train:\", roc_auc_score(Y0,Y0_logit))\n",
    "print(\"ROC_AUC Test:\", roc_auc_score(Y1,Y1_logit))\n",
    "print(\"Recall Train:\", recall_score(Y0,Y0_logit_bin))\n",
    "print(\"Recall Test:\", recall_score(Y1,Y1_logit_bin))\n",
    "print(\"Accuracy Train:\", accuracy_score(Y0,Y0_logit_bin))\n",
    "print(\"Accuracy Test:\", accuracy_score(Y1,Y1_logit_bin))"
   ]
  },
  {
   "cell_type": "markdown",
   "id": "62bfbbf5",
   "metadata": {},
   "source": [
    "# Decision Tree"
   ]
  },
  {
   "cell_type": "code",
   "execution_count": 95,
   "id": "c75c559c",
   "metadata": {},
   "outputs": [],
   "source": [
    "dt1=DecisionTreeClassifier(random_state=42, max_depth=10, min_samples_leaf=200).fit(X0,Y0)"
   ]
  },
  {
   "cell_type": "code",
   "execution_count": 96,
   "id": "05df17f5",
   "metadata": {},
   "outputs": [],
   "source": [
    "# getting probabilities\n",
    "\n",
    "Y0_dt_grid=dt1.predict_proba(X0)[:,1]\n",
    "Y1_dt_grid=dt1.predict_proba(X1)[:,1]"
   ]
  },
  {
   "cell_type": "code",
   "execution_count": 97,
   "id": "2e23873f",
   "metadata": {},
   "outputs": [
    {
     "name": "stdout",
     "output_type": "stream",
     "text": [
      "ROC_AUC Train: 0.7073376688848558\n",
      "ROC_AUC Test: 0.7349016853932584\n"
     ]
    }
   ],
   "source": [
    "print(\"ROC_AUC Train:\", roc_auc_score(Y0,Y0_dt_grid))\n",
    "print(\"ROC_AUC Test:\", roc_auc_score(Y1,Y1_dt_grid))"
   ]
  },
  {
   "cell_type": "code",
   "execution_count": 98,
   "id": "149c0b91",
   "metadata": {},
   "outputs": [],
   "source": [
    "param_dt={\"max_depth\":range(2,5), 'min_samples_leaf':(10,100,10), \"class_weight\":['balanced', None]}"
   ]
  },
  {
   "cell_type": "code",
   "execution_count": 99,
   "id": "c43e302b",
   "metadata": {},
   "outputs": [
    {
     "name": "stdout",
     "output_type": "stream",
     "text": [
      "Fitting 5 folds for each of 18 candidates, totalling 90 fits\n"
     ]
    }
   ],
   "source": [
    "gs_dt= GridSearchCV(estimator=DecisionTreeClassifier(random_state=42), param_grid = param_dt, scoring = 'roc_auc', cv=5, verbose=1, n_jobs=-1).fit(X0,Y0)"
   ]
  },
  {
   "cell_type": "code",
   "execution_count": 100,
   "id": "7be03ece",
   "metadata": {},
   "outputs": [
    {
     "data": {
      "text/plain": [
       "{'class_weight': 'balanced', 'max_depth': 3, 'min_samples_leaf': 100}"
      ]
     },
     "execution_count": 100,
     "metadata": {},
     "output_type": "execute_result"
    }
   ],
   "source": [
    "#let's see the optimal parameters\n",
    "\n",
    "best_params_dt = gs_dt.best_params_\n",
    "best_params_dt"
   ]
  },
  {
   "cell_type": "code",
   "execution_count": 101,
   "id": "413b56b0",
   "metadata": {},
   "outputs": [],
   "source": [
    "#fitting the model with the optimal parameters\n",
    "\n",
    "dt1 = DecisionTreeClassifier(random_state =42, max_depth =best_params_dt['max_depth'], min_samples_leaf =best_params_dt['min_samples_leaf'], class_weight=best_params_dt['class_weight'] ).fit(X0, Y0)"
   ]
  },
  {
   "cell_type": "code",
   "execution_count": 102,
   "id": "f92561c0",
   "metadata": {},
   "outputs": [],
   "source": [
    "# getting probabilities \n",
    "\n",
    "Y0_dt_grid =dt1.predict_proba(X0)[:,1]\n",
    "Y1_dt_grid =dt1.predict_proba(X1)[:,1]\n",
    "\n",
    "#transform to binary prediction \n",
    "\n",
    "Y0_dt_bin = np.where(Y0_dt_grid > 0.5,1,0) \n",
    "Y1_dt_bin = np.where(Y1_dt_grid > 0.5,1,0)"
   ]
  },
  {
   "cell_type": "code",
   "execution_count": 103,
   "id": "2b489057",
   "metadata": {},
   "outputs": [
    {
     "name": "stdout",
     "output_type": "stream",
     "text": [
      "ROC_AUC Train: 0.7317839618202595\n",
      "ROC_AUC Test: 0.7258114856429463\n",
      "Recall Train: 0.7324561403508771\n",
      "Recall Test: 0.6805555555555556\n",
      "Accuracy Train: 0.6733333333333333\n",
      "Accuracy Test: 0.648\n"
     ]
    }
   ],
   "source": [
    "# calcualting roc_auc score \n",
    "\n",
    "print(\"ROC_AUC Train:\", roc_auc_score(Y0,Y0_dt_grid))\n",
    "print(\"ROC_AUC Test:\", roc_auc_score(Y1,Y1_dt_grid))\n",
    "print(\"Recall Train:\", recall_score(Y0,Y0_dt_bin))\n",
    "print(\"Recall Test:\", recall_score(Y1,Y1_dt_bin))\n",
    "print(\"Accuracy Train:\", accuracy_score(Y0,Y0_dt_bin))\n",
    "print(\"Accuracy Test:\", accuracy_score(Y1,Y1_dt_bin))"
   ]
  },
  {
   "cell_type": "code",
   "execution_count": 104,
   "id": "6dfdf6e7",
   "metadata": {},
   "outputs": [
    {
     "data": {
      "text/plain": [
       "array([0.14431271, 0.        , 0.        , 0.        , 0.06433565,\n",
       "       0.        , 0.        , 0.        , 0.        , 0.72370956,\n",
       "       0.        , 0.        , 0.        , 0.        , 0.        ,\n",
       "       0.        , 0.        , 0.06764209, 0.        , 0.        ,\n",
       "       0.        , 0.        , 0.        , 0.        , 0.        ,\n",
       "       0.        , 0.        , 0.        , 0.        , 0.        ,\n",
       "       0.        , 0.        , 0.        , 0.        , 0.        ,\n",
       "       0.        , 0.        , 0.        , 0.        , 0.        ,\n",
       "       0.        , 0.        , 0.        , 0.        , 0.        ,\n",
       "       0.        , 0.        , 0.        ])"
      ]
     },
     "execution_count": 104,
     "metadata": {},
     "output_type": "execute_result"
    }
   ],
   "source": [
    "dt1.feature_importances_"
   ]
  },
  {
   "cell_type": "code",
   "execution_count": 105,
   "id": "65c8db2b",
   "metadata": {},
   "outputs": [
    {
     "data": {
      "text/html": [
       "<div>\n",
       "<style scoped>\n",
       "    .dataframe tbody tr th:only-of-type {\n",
       "        vertical-align: middle;\n",
       "    }\n",
       "\n",
       "    .dataframe tbody tr th {\n",
       "        vertical-align: top;\n",
       "    }\n",
       "\n",
       "    .dataframe thead th {\n",
       "        text-align: right;\n",
       "    }\n",
       "</style>\n",
       "<table border=\"1\" class=\"dataframe\">\n",
       "  <thead>\n",
       "    <tr style=\"text-align: right;\">\n",
       "      <th></th>\n",
       "      <th>Feature_imp</th>\n",
       "    </tr>\n",
       "  </thead>\n",
       "  <tbody>\n",
       "    <tr>\n",
       "      <th>account_check_status_no checking account</th>\n",
       "      <td>0.723710</td>\n",
       "    </tr>\n",
       "    <tr>\n",
       "      <th>duration_in_month</th>\n",
       "      <td>0.144313</td>\n",
       "    </tr>\n",
       "    <tr>\n",
       "      <th>purpose_domestic appliances</th>\n",
       "      <td>0.067642</td>\n",
       "    </tr>\n",
       "    <tr>\n",
       "      <th>age</th>\n",
       "      <td>0.064336</td>\n",
       "    </tr>\n",
       "    <tr>\n",
       "      <th>property_if not A121/A122 : car or other, not in attribute 6</th>\n",
       "      <td>0.000000</td>\n",
       "    </tr>\n",
       "    <tr>\n",
       "      <th>present_emp_since_1 &lt;= ... &lt; 4 years</th>\n",
       "      <td>0.000000</td>\n",
       "    </tr>\n",
       "    <tr>\n",
       "      <th>present_emp_since_4 &lt;= ... &lt; 7 years</th>\n",
       "      <td>0.000000</td>\n",
       "    </tr>\n",
       "    <tr>\n",
       "      <th>present_emp_since_unemployed</th>\n",
       "      <td>0.000000</td>\n",
       "    </tr>\n",
       "    <tr>\n",
       "      <th>personal_status_sex_male : divorced/separated</th>\n",
       "      <td>0.000000</td>\n",
       "    </tr>\n",
       "    <tr>\n",
       "      <th>personal_status_sex_male : married/widowed</th>\n",
       "      <td>0.000000</td>\n",
       "    </tr>\n",
       "  </tbody>\n",
       "</table>\n",
       "</div>"
      ],
      "text/plain": [
       "                                                    Feature_imp\n",
       "account_check_status_no checking account               0.723710\n",
       "duration_in_month                                      0.144313\n",
       "purpose_domestic appliances                            0.067642\n",
       "age                                                    0.064336\n",
       "property_if not A121/A122 : car or other, not i...     0.000000\n",
       "present_emp_since_1 <= ... < 4 years                   0.000000\n",
       "present_emp_since_4 <= ... < 7 years                   0.000000\n",
       "present_emp_since_unemployed                           0.000000\n",
       "personal_status_sex_male : divorced/separated          0.000000\n",
       "personal_status_sex_male : married/widowed             0.000000"
      ]
     },
     "execution_count": 105,
     "metadata": {},
     "output_type": "execute_result"
    }
   ],
   "source": [
    "#making dataframe for convenient usage \n",
    "\n",
    "feat_imp = pd.DataFrame(dt1.feature_importances_, index = X.columns, columns=[\"Feature_imp\"])\n",
    "feat_imp = feat_imp.sort_values(by=\"Feature_imp\", ascending = False)\n",
    "feat_imp.head(10)"
   ]
  },
  {
   "cell_type": "markdown",
   "id": "396c403d",
   "metadata": {},
   "source": [
    "# Feature engineering"
   ]
  },
  {
   "cell_type": "code",
   "execution_count": 66,
   "id": "cd93b190",
   "metadata": {},
   "outputs": [
    {
     "data": {
      "image/png": "[encoded data removed]",
      "text/plain": [
       "<Figure size 432x288 with 1 Axes>"
      ]
     },
     "metadata": {
      "needs_background": "light"
     },
     "output_type": "display_data"
    }
   ],
   "source": [
    "plt.hist(data_num[\"age\"])\n",
    "plt.show() #One may overcome overfitting by hyperparameter optimization in LG. T"
   ]
  },
  {
   "cell_type": "code",
   "execution_count": 79,
   "id": "ab2edb02",
   "metadata": {},
   "outputs": [],
   "source": [
    "data_num['age_categ'] = np.where(data_num['age']<40,1,2) #Cross-validation is a technique to fight overfitting. F"
   ]
  },
  {
   "cell_type": "code",
   "execution_count": 71,
   "id": "50456799",
   "metadata": {},
   "outputs": [
    {
     "data": {
      "text/plain": [
       "count     1000.000000\n",
       "mean      3271.258000\n",
       "std       2822.736876\n",
       "min        250.000000\n",
       "25%       1365.500000\n",
       "50%       2319.500000\n",
       "75%       3972.250000\n",
       "max      18424.000000\n",
       "Name: credit_amount, dtype: float64"
      ]
     },
     "execution_count": 71,
     "metadata": {},
     "output_type": "execute_result"
    }
   ],
   "source": [
    "data.credit_amount.describe() #Gain and Lift charts are used to. T"
   ]
  },
  {
   "cell_type": "code",
   "execution_count": 83,
   "id": "5196d280",
   "metadata": {},
   "outputs": [
    {
     "name": "stderr",
     "output_type": "stream",
     "text": [
      "<ipython-input-83-da1448e7980b>:1: UserWarning: Pandas doesn't allow columns to be created via a new attribute name - see https://pandas.pydata.org/pandas-docs/stable/indexing.html#attribute-access\n",
      "  data.credit_amount_new=np.where(data.credit_amount < 3271, 0, 1)\n"
     ]
    }
   ],
   "source": [
    "data.credit_amount_new=np.where(data.credit_amount < 3271, 0, 1)"
   ]
  },
  {
   "cell_type": "code",
   "execution_count": null,
   "id": "8329729f",
   "metadata": {},
   "outputs": [],
   "source": []
  }
 ],
 "metadata": {
  "kernelspec": {
   "display_name": "Python 3",
   "language": "python",
   "name": "python3"
  },
  "language_info": {
   "codemirror_mode": {
    "name": "ipython",
    "version": 3
   },
   "file_extension": ".py",
   "mimetype": "text/x-python",
   "name": "python",
   "nbconvert_exporter": "python",
   "pygments_lexer": "ipython3",
   "version": "3.8.8"
  }
 },
 "nbformat": 4,
 "nbformat_minor": 5
}
