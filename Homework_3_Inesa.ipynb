{
 "cells": [
  {
   "cell_type": "markdown",
   "id": "c57bf68d",
   "metadata": {},
   "source": [
    "# Problem 1. Variable types, Lists"
   ]
  },
  {
   "cell_type": "code",
   "execution_count": 1,
   "id": "56250b09",
   "metadata": {},
   "outputs": [
    {
     "data": {
      "text/plain": [
       "float"
      ]
     },
     "execution_count": 1,
     "metadata": {},
     "output_type": "execute_result"
    }
   ],
   "source": [
    "type(225+2.0)"
   ]
  },
  {
   "cell_type": "code",
   "execution_count": 2,
   "id": "b1321bcf",
   "metadata": {},
   "outputs": [
    {
     "data": {
      "text/plain": [
       "bool"
      ]
     },
     "execution_count": 2,
     "metadata": {},
     "output_type": "execute_result"
    }
   ],
   "source": [
    "type(230*2==2*230)"
   ]
  },
  {
   "cell_type": "code",
   "execution_count": 3,
   "id": "628c3d49",
   "metadata": {},
   "outputs": [
    {
     "data": {
      "text/plain": [
       "int"
      ]
     },
     "execution_count": 3,
     "metadata": {},
     "output_type": "execute_result"
    }
   ],
   "source": [
    "type(round(1.056))"
   ]
  },
  {
   "cell_type": "code",
   "execution_count": 4,
   "id": "60468f1f",
   "metadata": {},
   "outputs": [],
   "source": [
    "import math"
   ]
  },
  {
   "cell_type": "code",
   "execution_count": 5,
   "id": "b452bba1",
   "metadata": {},
   "outputs": [
    {
     "data": {
      "text/plain": [
       "int"
      ]
     },
     "execution_count": 5,
     "metadata": {},
     "output_type": "execute_result"
    }
   ],
   "source": [
    "type(math.ceil(14.56))"
   ]
  },
  {
   "cell_type": "markdown",
   "id": "fea35bb1",
   "metadata": {},
   "source": [
    "b)"
   ]
  },
  {
   "cell_type": "code",
   "execution_count": 6,
   "id": "7b03bb4d",
   "metadata": {},
   "outputs": [
    {
     "name": "stdout",
     "output_type": "stream",
     "text": [
      "What is the name of your favorite movie?Titanic\n",
      "What is the name of your favorite movie's director?James\n",
      "When was your favorite movie produced?1996\n",
      "My favorite movie is Titanic which was directed by James and it was premiered in 1996\n"
     ]
    }
   ],
   "source": [
    "movie_name=input(\"What is the name of your favorite movie?\")\n",
    "director_name=input(\"What is the name of your favorite movie's director?\")\n",
    "prod_year=input(\"When was your favorite movie produced?\")\n",
    "print(f\"My favorite movie is {movie_name} which was directed by {director_name} and it was premiered in {prod_year}\")"
   ]
  },
  {
   "cell_type": "markdown",
   "id": "087c2fd1",
   "metadata": {},
   "source": [
    "c)"
   ]
  },
  {
   "cell_type": "code",
   "execution_count": 7,
   "id": "4f63a85b",
   "metadata": {},
   "outputs": [
    {
     "name": "stdout",
     "output_type": "stream",
     "text": [
      "[]\n"
     ]
    }
   ],
   "source": [
    "Stocks=[]\n",
    "print(Stocks)"
   ]
  },
  {
   "cell_type": "code",
   "execution_count": 8,
   "id": "052dcfbb",
   "metadata": {},
   "outputs": [],
   "source": [
    "Stocks.append(\"EBAY\")"
   ]
  },
  {
   "cell_type": "code",
   "execution_count": 9,
   "id": "a581a830",
   "metadata": {},
   "outputs": [],
   "source": [
    "Stocks.append(\"A\")"
   ]
  },
  {
   "cell_type": "code",
   "execution_count": 10,
   "id": "099a8115",
   "metadata": {},
   "outputs": [],
   "source": [
    "Stocks.append(\"AHAC\")"
   ]
  },
  {
   "cell_type": "code",
   "execution_count": 11,
   "id": "7d71cde9",
   "metadata": {},
   "outputs": [],
   "source": [
    "Stocks.append(\"BGS\")"
   ]
  },
  {
   "cell_type": "code",
   "execution_count": 12,
   "id": "910d21ad",
   "metadata": {},
   "outputs": [],
   "source": [
    "Stocks.append(\"CEMI\")"
   ]
  },
  {
   "cell_type": "code",
   "execution_count": 13,
   "id": "fdd495e4",
   "metadata": {},
   "outputs": [
    {
     "name": "stdout",
     "output_type": "stream",
     "text": [
      "['EBAY', 'A', 'AHAC', 'BGS', 'CEMI']\n"
     ]
    }
   ],
   "source": [
    "print(Stocks)"
   ]
  },
  {
   "cell_type": "markdown",
   "id": "40903f6f",
   "metadata": {},
   "source": [
    "# Problem 2. If Condition and For Loop"
   ]
  },
  {
   "cell_type": "markdown",
   "id": "407038b5",
   "metadata": {},
   "source": [
    "a)"
   ]
  },
  {
   "cell_type": "code",
   "execution_count": 14,
   "id": "0531fb35",
   "metadata": {},
   "outputs": [
    {
     "name": "stdout",
     "output_type": "stream",
     "text": [
      "n is odd\n"
     ]
    }
   ],
   "source": [
    "n=25\n",
    "\n",
    "if n%2==0:\n",
    "    print(\"n is even\")\n",
    "else:\n",
    "    print(\"n is odd\")"
   ]
  },
  {
   "cell_type": "markdown",
   "id": "8ac95dbb",
   "metadata": {},
   "source": [
    "b)"
   ]
  },
  {
   "cell_type": "code",
   "execution_count": 15,
   "id": "5cf87d02",
   "metadata": {},
   "outputs": [],
   "source": [
    "Wine_list=[\"Thomas Fogarty 2018 Razorback Vineyard Pinot Noir\",\"Migration 2018 Drum Canyon Vineyard Pinot Noir\", \"Zorah Voski 2018\",\"Curto Marco 2017 Arborina (Barolo)\",\"Calera 2018 Jensen Vineyard Pinot Noir\",\"Hin Areni Red 2014\"]"
   ]
  },
  {
   "cell_type": "code",
   "execution_count": 16,
   "id": "00e62099",
   "metadata": {},
   "outputs": [],
   "source": [
    "Wine_list2=[]"
   ]
  },
  {
   "cell_type": "code",
   "execution_count": 17,
   "id": "0716a888",
   "metadata": {},
   "outputs": [],
   "source": [
    "for i in Wine_list:\n",
    "    if \"Pinot\" in i:\n",
    "        Wine_list2.append(i+\": Pinot Noir\")\n",
    "    elif \"Areni\" in i:\n",
    "        Wine_list2.append(i+\": Areni\")\n",
    "    else:\n",
    "         Wine_list2.append(i+\": Other\")"
   ]
  },
  {
   "cell_type": "code",
   "execution_count": 18,
   "id": "494bda58",
   "metadata": {},
   "outputs": [
    {
     "name": "stdout",
     "output_type": "stream",
     "text": [
      "['Thomas Fogarty 2018 Razorback Vineyard Pinot Noir: Pinot Noir', 'Migration 2018 Drum Canyon Vineyard Pinot Noir: Pinot Noir', 'Zorah Voski 2018: Other', 'Curto Marco 2017 Arborina (Barolo): Other', 'Calera 2018 Jensen Vineyard Pinot Noir: Pinot Noir', 'Hin Areni Red 2014: Areni']\n"
     ]
    }
   ],
   "source": [
    "print(Wine_list2)"
   ]
  },
  {
   "cell_type": "markdown",
   "id": "9e78e86a",
   "metadata": {},
   "source": [
    "# Problem 4. Dictionaries "
   ]
  },
  {
   "cell_type": "markdown",
   "id": "fc897bd5",
   "metadata": {},
   "source": [
    "a)"
   ]
  },
  {
   "cell_type": "code",
   "execution_count": 19,
   "id": "9fcd6df6",
   "metadata": {},
   "outputs": [
    {
     "name": "stdout",
     "output_type": "stream",
     "text": [
      "{'EBAY': 'Ebay', 'AAPL': 'Aplle Inc.', 'AMZN': 'Amazon', 'MSFT': 'Microsoft', 'FB': 'Facebook'}\n"
     ]
    }
   ],
   "source": [
    "dict_stocks={\"EBAY\":\"Ebay\",\"AAPL\":\"Aplle Inc.\",\"AMZN\":\"Amazon\",\"MSFT\":\"Microsoft\",\"FB\":\"Facebook\"}\n",
    "print(dict_stocks)"
   ]
  },
  {
   "cell_type": "markdown",
   "id": "3fc550b1",
   "metadata": {},
   "source": [
    "# Problem 5. Functions "
   ]
  },
  {
   "cell_type": "markdown",
   "id": "e972f831",
   "metadata": {},
   "source": [
    "a)"
   ]
  },
  {
   "cell_type": "code",
   "execution_count": 20,
   "id": "c204850e",
   "metadata": {},
   "outputs": [],
   "source": [
    "def maximum_number(x):\n",
    "    maximum=x[0]\n",
    "    for i in x:\n",
    "        if i>maximum:\n",
    "            maximum=i\n",
    "    return maximum"
   ]
  },
  {
   "cell_type": "code",
   "execution_count": 21,
   "id": "66223572",
   "metadata": {},
   "outputs": [],
   "source": [
    "a=[-10,0,12,3,8,5,6,8,-3]"
   ]
  },
  {
   "cell_type": "code",
   "execution_count": 22,
   "id": "09bd315e",
   "metadata": {},
   "outputs": [
    {
     "name": "stdout",
     "output_type": "stream",
     "text": [
      "12\n"
     ]
    }
   ],
   "source": [
    "print(maximum_number(a))"
   ]
  },
  {
   "cell_type": "markdown",
   "id": "4bfb230d",
   "metadata": {},
   "source": [
    "b)"
   ]
  },
  {
   "cell_type": "code",
   "execution_count": 23,
   "id": "5937c209",
   "metadata": {},
   "outputs": [
    {
     "name": "stdout",
     "output_type": "stream",
     "text": [
      "Please rate your satisfaction level of services provided by company X on scale from 1 to 55\n"
     ]
    }
   ],
   "source": [
    "def satisfaction_level(x):\n",
    "    if x==1:\n",
    "        print(\"Strongly dissatisfied\")\n",
    "    elif x==2:\n",
    "        print(\"Dissatisfied\")\n",
    "    elif x==3:\n",
    "        print(\"Neither dissatisfied nor satisfied\")\n",
    "    elif x==4:\n",
    "        print(\"Satisfied\")\n",
    "    elif x==5:\n",
    "        print(\"Very satisfied\")\n",
    "    else:\n",
    "        print(\"Please use 1-5 range to rate your satisfaction\")\n",
    "try:\n",
    "        level=int(input(\"Please rate your satisfaction level of services provided by company X on scale from 1 to 5\"))\n",
    "except ValueError:\n",
    "        print(\"Please enter numeric information\")"
   ]
  },
  {
   "cell_type": "markdown",
   "id": "08c04765",
   "metadata": {},
   "source": [
    "# Problem 6. Reading data "
   ]
  },
  {
   "cell_type": "markdown",
   "id": "02010a11",
   "metadata": {},
   "source": [
    "a)"
   ]
  },
  {
   "cell_type": "code",
   "execution_count": 24,
   "id": "e6c7b51c",
   "metadata": {},
   "outputs": [],
   "source": [
    "import pandas as pd"
   ]
  },
  {
   "cell_type": "code",
   "execution_count": 25,
   "id": "5d582155",
   "metadata": {},
   "outputs": [],
   "source": [
    "data_affairs=pd.read_excel('Affairs.xlsx')"
   ]
  },
  {
   "cell_type": "markdown",
   "id": "7725d5b4",
   "metadata": {},
   "source": [
    "# Problem 7. Data description "
   ]
  },
  {
   "cell_type": "markdown",
   "id": "e1466763",
   "metadata": {},
   "source": [
    "a)"
   ]
  },
  {
   "cell_type": "code",
   "execution_count": 26,
   "id": "5bfaf0d4",
   "metadata": {},
   "outputs": [
    {
     "data": {
      "text/html": [
       "<div>\n",
       "<style scoped>\n",
       "    .dataframe tbody tr th:only-of-type {\n",
       "        vertical-align: middle;\n",
       "    }\n",
       "\n",
       "    .dataframe tbody tr th {\n",
       "        vertical-align: top;\n",
       "    }\n",
       "\n",
       "    .dataframe thead th {\n",
       "        text-align: right;\n",
       "    }\n",
       "</style>\n",
       "<table border=\"1\" class=\"dataframe\">\n",
       "  <thead>\n",
       "    <tr style=\"text-align: right;\">\n",
       "      <th></th>\n",
       "      <th>ID</th>\n",
       "      <th>affairs</th>\n",
       "      <th>gender</th>\n",
       "      <th>age</th>\n",
       "      <th>years married</th>\n",
       "      <th>children</th>\n",
       "      <th>religiousness rating</th>\n",
       "      <th>education</th>\n",
       "      <th>occupation</th>\n",
       "      <th>rating</th>\n",
       "    </tr>\n",
       "  </thead>\n",
       "  <tbody>\n",
       "    <tr>\n",
       "      <th>0</th>\n",
       "      <td>4</td>\n",
       "      <td>No</td>\n",
       "      <td>male</td>\n",
       "      <td>37.0</td>\n",
       "      <td>10.00</td>\n",
       "      <td>no</td>\n",
       "      <td>3</td>\n",
       "      <td>18.0</td>\n",
       "      <td>7</td>\n",
       "      <td>4</td>\n",
       "    </tr>\n",
       "    <tr>\n",
       "      <th>1</th>\n",
       "      <td>5</td>\n",
       "      <td>No</td>\n",
       "      <td>female</td>\n",
       "      <td>27.0</td>\n",
       "      <td>4.00</td>\n",
       "      <td>no</td>\n",
       "      <td>4</td>\n",
       "      <td>14.0</td>\n",
       "      <td>6</td>\n",
       "      <td>4</td>\n",
       "    </tr>\n",
       "    <tr>\n",
       "      <th>2</th>\n",
       "      <td>11</td>\n",
       "      <td>No</td>\n",
       "      <td>female</td>\n",
       "      <td>32.0</td>\n",
       "      <td>15.00</td>\n",
       "      <td>yes</td>\n",
       "      <td>1</td>\n",
       "      <td>12.0</td>\n",
       "      <td>1</td>\n",
       "      <td>4</td>\n",
       "    </tr>\n",
       "    <tr>\n",
       "      <th>3</th>\n",
       "      <td>16</td>\n",
       "      <td>No</td>\n",
       "      <td>male</td>\n",
       "      <td>57.0</td>\n",
       "      <td>15.00</td>\n",
       "      <td>yes</td>\n",
       "      <td>5</td>\n",
       "      <td>18.0</td>\n",
       "      <td>6</td>\n",
       "      <td>5</td>\n",
       "    </tr>\n",
       "    <tr>\n",
       "      <th>4</th>\n",
       "      <td>23</td>\n",
       "      <td>No</td>\n",
       "      <td>male</td>\n",
       "      <td>22.0</td>\n",
       "      <td>0.75</td>\n",
       "      <td>no</td>\n",
       "      <td>2</td>\n",
       "      <td>17.0</td>\n",
       "      <td>6</td>\n",
       "      <td>3</td>\n",
       "    </tr>\n",
       "    <tr>\n",
       "      <th>...</th>\n",
       "      <td>...</td>\n",
       "      <td>...</td>\n",
       "      <td>...</td>\n",
       "      <td>...</td>\n",
       "      <td>...</td>\n",
       "      <td>...</td>\n",
       "      <td>...</td>\n",
       "      <td>...</td>\n",
       "      <td>...</td>\n",
       "      <td>...</td>\n",
       "    </tr>\n",
       "    <tr>\n",
       "      <th>596</th>\n",
       "      <td>1938</td>\n",
       "      <td>Yes</td>\n",
       "      <td>male</td>\n",
       "      <td>22.0</td>\n",
       "      <td>1.50</td>\n",
       "      <td>yes</td>\n",
       "      <td>1</td>\n",
       "      <td>12.0</td>\n",
       "      <td>2</td>\n",
       "      <td>5</td>\n",
       "    </tr>\n",
       "    <tr>\n",
       "      <th>597</th>\n",
       "      <td>1941</td>\n",
       "      <td>Yes</td>\n",
       "      <td>female</td>\n",
       "      <td>32.0</td>\n",
       "      <td>10.00</td>\n",
       "      <td>yes</td>\n",
       "      <td>2</td>\n",
       "      <td>18.0</td>\n",
       "      <td>5</td>\n",
       "      <td>4</td>\n",
       "    </tr>\n",
       "    <tr>\n",
       "      <th>598</th>\n",
       "      <td>1954</td>\n",
       "      <td>Yes</td>\n",
       "      <td>male</td>\n",
       "      <td>32.0</td>\n",
       "      <td>10.00</td>\n",
       "      <td>yes</td>\n",
       "      <td>2</td>\n",
       "      <td>17.0</td>\n",
       "      <td>6</td>\n",
       "      <td>5</td>\n",
       "    </tr>\n",
       "    <tr>\n",
       "      <th>599</th>\n",
       "      <td>1959</td>\n",
       "      <td>Yes</td>\n",
       "      <td>male</td>\n",
       "      <td>22.0</td>\n",
       "      <td>7.00</td>\n",
       "      <td>yes</td>\n",
       "      <td>3</td>\n",
       "      <td>18.0</td>\n",
       "      <td>6</td>\n",
       "      <td>2</td>\n",
       "    </tr>\n",
       "    <tr>\n",
       "      <th>600</th>\n",
       "      <td>9010</td>\n",
       "      <td>Yes</td>\n",
       "      <td>female</td>\n",
       "      <td>32.0</td>\n",
       "      <td>15.00</td>\n",
       "      <td>yes</td>\n",
       "      <td>3</td>\n",
       "      <td>14.0</td>\n",
       "      <td>1</td>\n",
       "      <td>5</td>\n",
       "    </tr>\n",
       "  </tbody>\n",
       "</table>\n",
       "<p>601 rows × 10 columns</p>\n",
       "</div>"
      ],
      "text/plain": [
       "       ID affairs  gender   age  years married children  religiousness rating  \\\n",
       "0       4      No    male  37.0          10.00       no                     3   \n",
       "1       5      No  female  27.0           4.00       no                     4   \n",
       "2      11      No  female  32.0          15.00      yes                     1   \n",
       "3      16      No    male  57.0          15.00      yes                     5   \n",
       "4      23      No    male  22.0           0.75       no                     2   \n",
       "..    ...     ...     ...   ...            ...      ...                   ...   \n",
       "596  1938     Yes    male  22.0           1.50      yes                     1   \n",
       "597  1941     Yes  female  32.0          10.00      yes                     2   \n",
       "598  1954     Yes    male  32.0          10.00      yes                     2   \n",
       "599  1959     Yes    male  22.0           7.00      yes                     3   \n",
       "600  9010     Yes  female  32.0          15.00      yes                     3   \n",
       "\n",
       "     education  occupation  rating  \n",
       "0         18.0           7       4  \n",
       "1         14.0           6       4  \n",
       "2         12.0           1       4  \n",
       "3         18.0           6       5  \n",
       "4         17.0           6       3  \n",
       "..         ...         ...     ...  \n",
       "596       12.0           2       5  \n",
       "597       18.0           5       4  \n",
       "598       17.0           6       5  \n",
       "599       18.0           6       2  \n",
       "600       14.0           1       5  \n",
       "\n",
       "[601 rows x 10 columns]"
      ]
     },
     "execution_count": 26,
     "metadata": {},
     "output_type": "execute_result"
    }
   ],
   "source": [
    "data_affairs"
   ]
  },
  {
   "cell_type": "code",
   "execution_count": 27,
   "id": "9a433ef6",
   "metadata": {},
   "outputs": [
    {
     "data": {
      "text/plain": [
       "(601, 10)"
      ]
     },
     "execution_count": 27,
     "metadata": {},
     "output_type": "execute_result"
    }
   ],
   "source": [
    "data_affairs.shape"
   ]
  },
  {
   "cell_type": "markdown",
   "id": "5168d782",
   "metadata": {},
   "source": [
    "b)"
   ]
  },
  {
   "cell_type": "code",
   "execution_count": 28,
   "id": "2b045ede",
   "metadata": {},
   "outputs": [
    {
     "data": {
      "text/plain": [
       "4"
      ]
     },
     "execution_count": 28,
     "metadata": {},
     "output_type": "execute_result"
    }
   ],
   "source": [
    "data_affairs.isnull().any().sum()"
   ]
  },
  {
   "cell_type": "markdown",
   "id": "d6789872",
   "metadata": {},
   "source": [
    "c)"
   ]
  },
  {
   "cell_type": "code",
   "execution_count": 29,
   "id": "5fd4b97b",
   "metadata": {},
   "outputs": [
    {
     "data": {
      "text/plain": [
       "ID                      0\n",
       "affairs                 0\n",
       "gender                  2\n",
       "age                     2\n",
       "years married           0\n",
       "children                1\n",
       "religiousness rating    0\n",
       "education               1\n",
       "occupation              0\n",
       "rating                  0\n",
       "dtype: int64"
      ]
     },
     "execution_count": 29,
     "metadata": {},
     "output_type": "execute_result"
    }
   ],
   "source": [
    "data_affairs.isna().sum()"
   ]
  },
  {
   "cell_type": "markdown",
   "id": "1382054c",
   "metadata": {},
   "source": [
    "d)"
   ]
  },
  {
   "cell_type": "code",
   "execution_count": 30,
   "id": "a75d334b",
   "metadata": {},
   "outputs": [
    {
     "name": "stdout",
     "output_type": "stream",
     "text": [
      "7\n",
      "3\n"
     ]
    }
   ],
   "source": [
    "print(data_affairs.select_dtypes('number').shape[1])\n",
    "print(data_affairs.select_dtypes('object').shape[1])"
   ]
  },
  {
   "cell_type": "markdown",
   "id": "94d728e1",
   "metadata": {},
   "source": [
    "7 numeric and 3 non-numeric variables are in the data"
   ]
  },
  {
   "cell_type": "markdown",
   "id": "6d2ae802",
   "metadata": {},
   "source": [
    "e)"
   ]
  },
  {
   "cell_type": "code",
   "execution_count": 31,
   "id": "0831e3b8",
   "metadata": {},
   "outputs": [
    {
     "data": {
      "text/plain": [
       "193    male\n",
       "Name: gender, dtype: object"
      ]
     },
     "execution_count": 31,
     "metadata": {},
     "output_type": "execute_result"
    }
   ],
   "source": [
    "data_affairs.loc[data_affairs['ID']==904,'gender']"
   ]
  },
  {
   "cell_type": "code",
   "execution_count": 32,
   "id": "515f94fb",
   "metadata": {},
   "outputs": [
    {
     "data": {
      "text/plain": [
       "193    15.0\n",
       "Name: years married, dtype: float64"
      ]
     },
     "execution_count": 32,
     "metadata": {},
     "output_type": "execute_result"
    }
   ],
   "source": [
    "data_affairs.loc[data_affairs['ID']==904,'years married']"
   ]
  },
  {
   "cell_type": "markdown",
   "id": "203e9ec7",
   "metadata": {},
   "source": [
    "f)"
   ]
  },
  {
   "cell_type": "code",
   "execution_count": 33,
   "id": "905ee9ee",
   "metadata": {},
   "outputs": [
    {
     "name": "stdout",
     "output_type": "stream",
     "text": [
      "16.17\n"
     ]
    }
   ],
   "source": [
    "print(data_affairs.education.mean())"
   ]
  },
  {
   "cell_type": "markdown",
   "id": "146e0781",
   "metadata": {},
   "source": [
    "g)"
   ]
  },
  {
   "cell_type": "code",
   "execution_count": 34,
   "id": "7f918912",
   "metadata": {},
   "outputs": [
    {
     "data": {
      "text/plain": [
       "7.0"
      ]
     },
     "execution_count": 34,
     "metadata": {},
     "output_type": "execute_result"
    }
   ],
   "source": [
    "data_affairs.loc[:,'years married'].median()"
   ]
  },
  {
   "cell_type": "markdown",
   "id": "27fb822d",
   "metadata": {},
   "source": [
    "h)"
   ]
  },
  {
   "cell_type": "code",
   "execution_count": 35,
   "id": "f21d2201",
   "metadata": {},
   "outputs": [
    {
     "data": {
      "text/plain": [
       "5.0"
      ]
     },
     "execution_count": 35,
     "metadata": {},
     "output_type": "execute_result"
    }
   ],
   "source": [
    "data_affairs.rating.quantile(0.75)"
   ]
  },
  {
   "cell_type": "markdown",
   "id": "e9365803",
   "metadata": {},
   "source": [
    "i)"
   ]
  },
  {
   "cell_type": "code",
   "execution_count": 36,
   "id": "b174ae26",
   "metadata": {},
   "outputs": [
    {
     "data": {
      "text/plain": [
       "33.41"
      ]
     },
     "execution_count": 36,
     "metadata": {},
     "output_type": "execute_result"
    }
   ],
   "source": [
    "data_affairs[data_affairs['affairs']=='Yes'].age.mean()"
   ]
  },
  {
   "cell_type": "markdown",
   "id": "7e3c9e02",
   "metadata": {},
   "source": [
    "j)"
   ]
  },
  {
   "cell_type": "code",
   "execution_count": 37,
   "id": "ae31e051",
   "metadata": {},
   "outputs": [],
   "source": [
    "def object_observations():\n",
    "    objects=data_affairs.select_dtypes(include=['object'])\n",
    "    for i in objects.columns:\n",
    "        print(objects[i].value_counts())"
   ]
  },
  {
   "cell_type": "code",
   "execution_count": 38,
   "id": "1608464a",
   "metadata": {},
   "outputs": [
    {
     "name": "stdout",
     "output_type": "stream",
     "text": [
      "No     451\n",
      "Yes    150\n",
      "Name: affairs, dtype: int64\n",
      "female    313\n",
      "male      286\n",
      "Name: gender, dtype: int64\n",
      "yes    429\n",
      "no     171\n",
      "Name: children, dtype: int64\n"
     ]
    }
   ],
   "source": [
    "object_observations()"
   ]
  },
  {
   "cell_type": "markdown",
   "id": "8b2887a2",
   "metadata": {},
   "source": [
    "k)"
   ]
  },
  {
   "cell_type": "code",
   "execution_count": 40,
   "id": "d3b4f8ef",
   "metadata": {},
   "outputs": [
    {
     "ename": "NameError",
     "evalue": "name 'objects' is not defined",
     "output_type": "error",
     "traceback": [
      "\u001b[0;31m---------------------------------------------------------------------------\u001b[0m",
      "\u001b[0;31mNameError\u001b[0m                                 Traceback (most recent call last)",
      "\u001b[0;32m<ipython-input-40-94abb049f077>\u001b[0m in \u001b[0;36m<module>\u001b[0;34m\u001b[0m\n\u001b[0;32m----> 1\u001b[0;31m \u001b[0;32mfor\u001b[0m \u001b[0mi\u001b[0m \u001b[0;32min\u001b[0m \u001b[0mobjects\u001b[0m\u001b[0;34m.\u001b[0m\u001b[0mcolumns\u001b[0m\u001b[0;34m:\u001b[0m\u001b[0;34m\u001b[0m\u001b[0;34m\u001b[0m\u001b[0m\n\u001b[0m\u001b[1;32m      2\u001b[0m         \u001b[0mprint\u001b[0m\u001b[0;34m(\u001b[0m\u001b[0mobjects\u001b[0m\u001b[0;34m[\u001b[0m\u001b[0mi\u001b[0m\u001b[0;34m]\u001b[0m\u001b[0;34m.\u001b[0m\u001b[0munique\u001b[0m\u001b[0;34m(\u001b[0m\u001b[0;34m)\u001b[0m\u001b[0;34m)\u001b[0m\u001b[0;34m\u001b[0m\u001b[0;34m\u001b[0m\u001b[0m\n",
      "\u001b[0;31mNameError\u001b[0m: name 'objects' is not defined"
     ]
    }
   ],
   "source": [
    "for i in objects.columns:\n",
    "        print(objects[i].unique())"
   ]
  },
  {
   "cell_type": "markdown",
   "id": "9e537907",
   "metadata": {},
   "source": [
    "# Problem 8. Data Transformation"
   ]
  },
  {
   "cell_type": "markdown",
   "id": "1eddb46d",
   "metadata": {},
   "source": [
    "a)"
   ]
  },
  {
   "cell_type": "code",
   "execution_count": 41,
   "id": "355a8e27",
   "metadata": {},
   "outputs": [
    {
     "name": "stdout",
     "output_type": "stream",
     "text": [
      "       ID affairs  gender   age  years married children  religiousness rating  \\\n",
      "0       4      No    male  37.0          10.00       no                     3   \n",
      "1       5      No  female  27.0           4.00       no                     4   \n",
      "2      11      No  female  32.0          15.00      yes                     1   \n",
      "3      16      No    male  57.0          15.00      yes                     5   \n",
      "4      23      No    male  22.0           0.75       no                     2   \n",
      "..    ...     ...     ...   ...            ...      ...                   ...   \n",
      "596  1938     Yes    male  22.0           1.50      yes                     1   \n",
      "597  1941     Yes  female  32.0          10.00      yes                     2   \n",
      "598  1954     Yes    male  32.0          10.00      yes                     2   \n",
      "599  1959     Yes    male  22.0           7.00      yes                     3   \n",
      "600  9010     Yes  female  32.0          15.00      yes                     3   \n",
      "\n",
      "     education  occupation  rating  \n",
      "0         18.0           7       4  \n",
      "1         14.0           6       4  \n",
      "2         12.0           1       4  \n",
      "3         18.0           6       5  \n",
      "4         17.0           6       3  \n",
      "..         ...         ...     ...  \n",
      "596       12.0           2       5  \n",
      "597       18.0           5       4  \n",
      "598       17.0           6       5  \n",
      "599       18.0           6       2  \n",
      "600       14.0           1       5  \n",
      "\n",
      "[595 rows x 10 columns]\n"
     ]
    }
   ],
   "source": [
    "data_affairs2=data_affairs.dropna()\n",
    "print(data_affairs2)"
   ]
  },
  {
   "cell_type": "markdown",
   "id": "6690da9d",
   "metadata": {},
   "source": [
    "b)"
   ]
  },
  {
   "cell_type": "code",
   "execution_count": 42,
   "id": "8f20e3b1",
   "metadata": {},
   "outputs": [],
   "source": [
    "data_affairs3=data_affairs2.drop(['ID'],axis=1)"
   ]
  },
  {
   "cell_type": "markdown",
   "id": "45c0f9d6",
   "metadata": {},
   "source": [
    "c)"
   ]
  },
  {
   "cell_type": "code",
   "execution_count": 43,
   "id": "9d718bd8",
   "metadata": {},
   "outputs": [
    {
     "data": {
      "text/plain": [
       "(595, 9)"
      ]
     },
     "execution_count": 43,
     "metadata": {},
     "output_type": "execute_result"
    }
   ],
   "source": [
    "data_affairs3.shape"
   ]
  },
  {
   "cell_type": "markdown",
   "id": "9a3d8c9c",
   "metadata": {},
   "source": [
    "d)"
   ]
  },
  {
   "cell_type": "code",
   "execution_count": 44,
   "id": "a70396b4",
   "metadata": {},
   "outputs": [],
   "source": [
    "data_affairs3.columns= data_affairs3.columns.str.replace(' ','_')"
   ]
  },
  {
   "cell_type": "code",
   "execution_count": 45,
   "id": "da4b55a6",
   "metadata": {},
   "outputs": [
    {
     "data": {
      "text/html": [
       "<div>\n",
       "<style scoped>\n",
       "    .dataframe tbody tr th:only-of-type {\n",
       "        vertical-align: middle;\n",
       "    }\n",
       "\n",
       "    .dataframe tbody tr th {\n",
       "        vertical-align: top;\n",
       "    }\n",
       "\n",
       "    .dataframe thead th {\n",
       "        text-align: right;\n",
       "    }\n",
       "</style>\n",
       "<table border=\"1\" class=\"dataframe\">\n",
       "  <thead>\n",
       "    <tr style=\"text-align: right;\">\n",
       "      <th></th>\n",
       "      <th>affairs</th>\n",
       "      <th>gender</th>\n",
       "      <th>age</th>\n",
       "      <th>years_married</th>\n",
       "      <th>children</th>\n",
       "      <th>religiousness_rating</th>\n",
       "      <th>education</th>\n",
       "      <th>occupation</th>\n",
       "      <th>rating</th>\n",
       "    </tr>\n",
       "  </thead>\n",
       "  <tbody>\n",
       "    <tr>\n",
       "      <th>0</th>\n",
       "      <td>No</td>\n",
       "      <td>male</td>\n",
       "      <td>37.0</td>\n",
       "      <td>10.00</td>\n",
       "      <td>no</td>\n",
       "      <td>3</td>\n",
       "      <td>18.0</td>\n",
       "      <td>7</td>\n",
       "      <td>4</td>\n",
       "    </tr>\n",
       "    <tr>\n",
       "      <th>1</th>\n",
       "      <td>No</td>\n",
       "      <td>female</td>\n",
       "      <td>27.0</td>\n",
       "      <td>4.00</td>\n",
       "      <td>no</td>\n",
       "      <td>4</td>\n",
       "      <td>14.0</td>\n",
       "      <td>6</td>\n",
       "      <td>4</td>\n",
       "    </tr>\n",
       "    <tr>\n",
       "      <th>2</th>\n",
       "      <td>No</td>\n",
       "      <td>female</td>\n",
       "      <td>32.0</td>\n",
       "      <td>15.00</td>\n",
       "      <td>yes</td>\n",
       "      <td>1</td>\n",
       "      <td>12.0</td>\n",
       "      <td>1</td>\n",
       "      <td>4</td>\n",
       "    </tr>\n",
       "    <tr>\n",
       "      <th>3</th>\n",
       "      <td>No</td>\n",
       "      <td>male</td>\n",
       "      <td>57.0</td>\n",
       "      <td>15.00</td>\n",
       "      <td>yes</td>\n",
       "      <td>5</td>\n",
       "      <td>18.0</td>\n",
       "      <td>6</td>\n",
       "      <td>5</td>\n",
       "    </tr>\n",
       "    <tr>\n",
       "      <th>4</th>\n",
       "      <td>No</td>\n",
       "      <td>male</td>\n",
       "      <td>22.0</td>\n",
       "      <td>0.75</td>\n",
       "      <td>no</td>\n",
       "      <td>2</td>\n",
       "      <td>17.0</td>\n",
       "      <td>6</td>\n",
       "      <td>3</td>\n",
       "    </tr>\n",
       "    <tr>\n",
       "      <th>...</th>\n",
       "      <td>...</td>\n",
       "      <td>...</td>\n",
       "      <td>...</td>\n",
       "      <td>...</td>\n",
       "      <td>...</td>\n",
       "      <td>...</td>\n",
       "      <td>...</td>\n",
       "      <td>...</td>\n",
       "      <td>...</td>\n",
       "    </tr>\n",
       "    <tr>\n",
       "      <th>596</th>\n",
       "      <td>Yes</td>\n",
       "      <td>male</td>\n",
       "      <td>22.0</td>\n",
       "      <td>1.50</td>\n",
       "      <td>yes</td>\n",
       "      <td>1</td>\n",
       "      <td>12.0</td>\n",
       "      <td>2</td>\n",
       "      <td>5</td>\n",
       "    </tr>\n",
       "    <tr>\n",
       "      <th>597</th>\n",
       "      <td>Yes</td>\n",
       "      <td>female</td>\n",
       "      <td>32.0</td>\n",
       "      <td>10.00</td>\n",
       "      <td>yes</td>\n",
       "      <td>2</td>\n",
       "      <td>18.0</td>\n",
       "      <td>5</td>\n",
       "      <td>4</td>\n",
       "    </tr>\n",
       "    <tr>\n",
       "      <th>598</th>\n",
       "      <td>Yes</td>\n",
       "      <td>male</td>\n",
       "      <td>32.0</td>\n",
       "      <td>10.00</td>\n",
       "      <td>yes</td>\n",
       "      <td>2</td>\n",
       "      <td>17.0</td>\n",
       "      <td>6</td>\n",
       "      <td>5</td>\n",
       "    </tr>\n",
       "    <tr>\n",
       "      <th>599</th>\n",
       "      <td>Yes</td>\n",
       "      <td>male</td>\n",
       "      <td>22.0</td>\n",
       "      <td>7.00</td>\n",
       "      <td>yes</td>\n",
       "      <td>3</td>\n",
       "      <td>18.0</td>\n",
       "      <td>6</td>\n",
       "      <td>2</td>\n",
       "    </tr>\n",
       "    <tr>\n",
       "      <th>600</th>\n",
       "      <td>Yes</td>\n",
       "      <td>female</td>\n",
       "      <td>32.0</td>\n",
       "      <td>15.00</td>\n",
       "      <td>yes</td>\n",
       "      <td>3</td>\n",
       "      <td>14.0</td>\n",
       "      <td>1</td>\n",
       "      <td>5</td>\n",
       "    </tr>\n",
       "  </tbody>\n",
       "</table>\n",
       "<p>595 rows × 9 columns</p>\n",
       "</div>"
      ],
      "text/plain": [
       "    affairs  gender   age  years_married children  religiousness_rating  \\\n",
       "0        No    male  37.0          10.00       no                     3   \n",
       "1        No  female  27.0           4.00       no                     4   \n",
       "2        No  female  32.0          15.00      yes                     1   \n",
       "3        No    male  57.0          15.00      yes                     5   \n",
       "4        No    male  22.0           0.75       no                     2   \n",
       "..      ...     ...   ...            ...      ...                   ...   \n",
       "596     Yes    male  22.0           1.50      yes                     1   \n",
       "597     Yes  female  32.0          10.00      yes                     2   \n",
       "598     Yes    male  32.0          10.00      yes                     2   \n",
       "599     Yes    male  22.0           7.00      yes                     3   \n",
       "600     Yes  female  32.0          15.00      yes                     3   \n",
       "\n",
       "     education  occupation  rating  \n",
       "0         18.0           7       4  \n",
       "1         14.0           6       4  \n",
       "2         12.0           1       4  \n",
       "3         18.0           6       5  \n",
       "4         17.0           6       3  \n",
       "..         ...         ...     ...  \n",
       "596       12.0           2       5  \n",
       "597       18.0           5       4  \n",
       "598       17.0           6       5  \n",
       "599       18.0           6       2  \n",
       "600       14.0           1       5  \n",
       "\n",
       "[595 rows x 9 columns]"
      ]
     },
     "execution_count": 45,
     "metadata": {},
     "output_type": "execute_result"
    }
   ],
   "source": [
    "data_affairs3"
   ]
  },
  {
   "cell_type": "markdown",
   "id": "0ffe1acc",
   "metadata": {},
   "source": [
    "e)"
   ]
  },
  {
   "cell_type": "code",
   "execution_count": 46,
   "id": "c6425dfa",
   "metadata": {},
   "outputs": [
    {
     "name": "stdout",
     "output_type": "stream",
     "text": [
      "<class 'pandas.core.frame.DataFrame'>\n",
      "Int64Index: 595 entries, 0 to 600\n",
      "Data columns (total 6 columns):\n",
      " #   Column                Non-Null Count  Dtype  \n",
      "---  ------                --------------  -----  \n",
      " 0   age                   595 non-null    float64\n",
      " 1   years_married         595 non-null    float64\n",
      " 2   religiousness_rating  595 non-null    int64  \n",
      " 3   education             595 non-null    float64\n",
      " 4   occupation            595 non-null    int64  \n",
      " 5   rating                595 non-null    int64  \n",
      "dtypes: float64(3), int64(3)\n",
      "memory usage: 32.5 KB\n"
     ]
    }
   ],
   "source": [
    "data_num=data_affairs3.select_dtypes(exclude=['object'])\n",
    "data_num.info()"
   ]
  },
  {
   "cell_type": "code",
   "execution_count": 47,
   "id": "b98a78dd",
   "metadata": {},
   "outputs": [
    {
     "name": "stdout",
     "output_type": "stream",
     "text": [
      "<class 'pandas.core.frame.DataFrame'>\n",
      "Int64Index: 595 entries, 0 to 600\n",
      "Data columns (total 3 columns):\n",
      " #   Column    Non-Null Count  Dtype \n",
      "---  ------    --------------  ----- \n",
      " 0   affairs   595 non-null    object\n",
      " 1   gender    595 non-null    object\n",
      " 2   children  595 non-null    object\n",
      "dtypes: object(3)\n",
      "memory usage: 18.6+ KB\n"
     ]
    }
   ],
   "source": [
    "data_obj=data_affairs3.select_dtypes(include=['object'])\n",
    "data_obj.info()"
   ]
  },
  {
   "cell_type": "markdown",
   "id": "80685fb1",
   "metadata": {},
   "source": [
    "# Problem 9. Data Visualization"
   ]
  },
  {
   "cell_type": "code",
   "execution_count": 48,
   "id": "19b583f9",
   "metadata": {},
   "outputs": [],
   "source": [
    "import matplotlib.pyplot as plt"
   ]
  },
  {
   "cell_type": "code",
   "execution_count": 49,
   "id": "4f090acb",
   "metadata": {},
   "outputs": [
    {
     "ename": "NameError",
     "evalue": "name 'sns' is not defined",
     "output_type": "error",
     "traceback": [
      "\u001b[0;31m---------------------------------------------------------------------------\u001b[0m",
      "\u001b[0;31mNameError\u001b[0m                                 Traceback (most recent call last)",
      "\u001b[0;32m<ipython-input-49-278a59dc813e>\u001b[0m in \u001b[0;36m<module>\u001b[0;34m\u001b[0m\n\u001b[1;32m      2\u001b[0m     \u001b[0mplt\u001b[0m\u001b[0;34m.\u001b[0m\u001b[0mfigure\u001b[0m\u001b[0;34m(\u001b[0m\u001b[0mfigsize\u001b[0m\u001b[0;34m=\u001b[0m\u001b[0;34m(\u001b[0m\u001b[0;36m13\u001b[0m\u001b[0;34m,\u001b[0m\u001b[0;36m8\u001b[0m\u001b[0;34m)\u001b[0m\u001b[0;34m)\u001b[0m\u001b[0;34m\u001b[0m\u001b[0;34m\u001b[0m\u001b[0m\n\u001b[1;32m      3\u001b[0m     \u001b[0mplt\u001b[0m\u001b[0;34m.\u001b[0m\u001b[0mtitle\u001b[0m\u001b[0;34m(\u001b[0m\u001b[0;34mf'(Relationship between {i} and g'\u001b[0m\u001b[0;34m)\u001b[0m\u001b[0;34m\u001b[0m\u001b[0;34m\u001b[0m\u001b[0m\n\u001b[0;32m----> 4\u001b[0;31m     sns.scatterplot(data_num[i],\n\u001b[0m\u001b[1;32m      5\u001b[0m                data_num.g)\n\u001b[1;32m      6\u001b[0m     \u001b[0mplt\u001b[0m\u001b[0;34m.\u001b[0m\u001b[0mshow\u001b[0m\u001b[0;34m(\u001b[0m\u001b[0;34m)\u001b[0m\u001b[0;34m\u001b[0m\u001b[0;34m\u001b[0m\u001b[0m\n",
      "\u001b[0;31mNameError\u001b[0m: name 'sns' is not defined"
     ]
    },
    {
     "data": {
      "image/png": "[encoded data removed]",
      "text/plain": [
       "<Figure size 936x576 with 1 Axes>"
      ]
     },
     "metadata": {
      "needs_background": "light"
     },
     "output_type": "display_data"
    }
   ],
   "source": [
    "for i in data_num.columns:\n",
    "    plt.figure(figsize=(13,8))\n",
    "    plt.title(f'(Relationship between {i} and g')\n",
    "    sns.scatterplot(data_num[i],\n",
    "               data_num.g)\n",
    "    plt.show()"
   ]
  },
  {
   "cell_type": "code",
   "execution_count": 50,
   "id": "2e2a28f4",
   "metadata": {},
   "outputs": [
    {
     "data": {
      "image/png": "[encoded data removed]",
      "text/plain": [
       "<Figure size 720x432 with 1 Axes>"
      ]
     },
     "metadata": {
      "needs_background": "light"
     },
     "output_type": "display_data"
    }
   ],
   "source": [
    "plt.figure(figsize=(10,6))\n",
    "plt.bar(data_affairs.affairs.unique(),data_affairs.age.mean(),color=('#a83252'))\n",
    "plt.xlabel('Affairs')\n",
    "plt.ylabel('Average Age')\n",
    "plt.title('Average age by affairs')\n",
    "plt.show()"
   ]
  },
  {
   "cell_type": "code",
   "execution_count": 51,
   "id": "c51a1e81",
   "metadata": {},
   "outputs": [
    {
     "data": {
      "image/png": "[encoded data removed]",
      "text/plain": [
       "<Figure size 432x288 with 1 Axes>"
      ]
     },
     "metadata": {
      "needs_background": "light"
     },
     "output_type": "display_data"
    },
    {
     "data": {
      "image/png": "[encoded data removed]",
      "text/plain": [
       "<Figure size 432x288 with 1 Axes>"
      ]
     },
     "metadata": {
      "needs_background": "light"
     },
     "output_type": "display_data"
    },
    {
     "data": {
      "image/png": "[encoded data removed]",
      "text/plain": [
       "<Figure size 432x288 with 1 Axes>"
      ]
     },
     "metadata": {
      "needs_background": "light"
     },
     "output_type": "display_data"
    },
    {
     "data": {
      "image/png": "[encoded data removed]",
      "text/plain": [
       "<Figure size 432x288 with 1 Axes>"
      ]
     },
     "metadata": {
      "needs_background": "light"
     },
     "output_type": "display_data"
    },
    {
     "data": {
      "image/png": "[encoded data removed]",
      "text/plain": [
       "<Figure size 432x288 with 1 Axes>"
      ]
     },
     "metadata": {
      "needs_background": "light"
     },
     "output_type": "display_data"
    },
    {
     "data": {
      "image/png": "[encoded data removed]",
      "text/plain": [
       "<Figure size 432x288 with 1 Axes>"
      ]
     },
     "metadata": {
      "needs_background": "light"
     },
     "output_type": "display_data"
    }
   ],
   "source": [
    "for i in data_num.columns:\n",
    "    plt.hist(data_num[i],bins=20,color=('#a83252'))\n",
    "    plt.title(i)\n",
    "    plt.show()"
   ]
  },
  {
   "cell_type": "code",
   "execution_count": 52,
   "id": "7b578629",
   "metadata": {},
   "outputs": [
    {
     "ename": "NameError",
     "evalue": "name 'country_df' is not defined",
     "output_type": "error",
     "traceback": [
      "\u001b[0;31m---------------------------------------------------------------------------\u001b[0m",
      "\u001b[0;31mNameError\u001b[0m                                 Traceback (most recent call last)",
      "\u001b[0;32m<ipython-input-52-68a557919ec5>\u001b[0m in \u001b[0;36m<module>\u001b[0;34m\u001b[0m\n\u001b[0;32m----> 1\u001b[0;31m \u001b[0mcountry_df\u001b[0m\u001b[0;34m[\u001b[0m\u001b[0;34m[\u001b[0m\u001b[0;34m'x'\u001b[0m\u001b[0;34m,\u001b[0m\u001b[0;34m'y'\u001b[0m\u001b[0;34m]\u001b[0m\u001b[0;34m]\u001b[0m\u001b[0;34m.\u001b[0m\u001b[0mplot\u001b[0m\u001b[0;34m(\u001b[0m\u001b[0mkind\u001b[0m\u001b[0;34m=\u001b[0m\u001b[0;34m'box'\u001b[0m\u001b[0;34m)\u001b[0m\u001b[0;34m\u001b[0m\u001b[0;34m\u001b[0m\u001b[0m\n\u001b[0m\u001b[1;32m      2\u001b[0m \u001b[0mplt\u001b[0m\u001b[0;34m.\u001b[0m\u001b[0mtitle\u001b[0m\u001b[0;34m(\u001b[0m\u001b[0;34m\"x and y\"\u001b[0m\u001b[0;34m)\u001b[0m\u001b[0;34m\u001b[0m\u001b[0;34m\u001b[0m\u001b[0m\n\u001b[1;32m      3\u001b[0m \u001b[0mplt\u001b[0m\u001b[0;34m.\u001b[0m\u001b[0mshow\u001b[0m\u001b[0;34m(\u001b[0m\u001b[0;34m)\u001b[0m\u001b[0;34m\u001b[0m\u001b[0;34m\u001b[0m\u001b[0m\n",
      "\u001b[0;31mNameError\u001b[0m: name 'country_df' is not defined"
     ]
    }
   ],
   "source": [
    "country_df[['x','y']].plot(kind='box')\n",
    "plt.title(\"x and y\")\n",
    "plt.show()"
   ]
  }
 ],
 "metadata": {
  "kernelspec": {
   "display_name": "Python 3",
   "language": "python",
   "name": "python3"
  },
  "language_info": {
   "codemirror_mode": {
    "name": "ipython",
    "version": 3
   },
   "file_extension": ".py",
   "mimetype": "text/x-python",
   "name": "python",
   "nbconvert_exporter": "python",
   "pygments_lexer": "ipython3",
   "version": "3.8.8"
  }
 },
 "nbformat": 4,
 "nbformat_minor": 5
}
